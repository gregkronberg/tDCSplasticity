{
 "cells": [
  {
   "cell_type": "code",
   "execution_count": 637,
   "metadata": {},
   "outputs": [
    {
     "data": {
      "text/plain": [
       "<module 'analyze_exp' from 'analyze_exp.pyc'>"
      ]
     },
     "execution_count": 637,
     "metadata": {},
     "output_type": "execute_result"
    }
   ],
   "source": [
    "# %load_ext autoreload\n",
    "# %autoreload 2\n",
    "import neurons\n",
    "import functions\n",
    "import matplotlib.pyplot as plt\n",
    "import stims\n",
    "import run_control\n",
    "import numpy as np\n",
    "import param\n",
    "import analyze_exp\n",
    "reload(functions)\n",
    "reload(neurons.neuron_reduce.reducing_methods)\n",
    "reload(neurons.neuron_reduce.subtree_reductor_func)\n",
    "reload(param)\n",
    "reload(neurons)\n",
    "reload(functions)\n",
    "reload(run_control)\n",
    "reload(stims)\n",
    "reload(analyze_exp)"
   ]
  },
  {
   "cell_type": "code",
   "execution_count": 638,
   "metadata": {},
   "outputs": [],
   "source": [
    "exp = run_control.exp_full_neuron_polarization()"
   ]
  },
  {
   "cell_type": "code",
   "execution_count": 639,
   "metadata": {},
   "outputs": [
    {
     "name": "stdout",
     "output_type": "stream",
     "text": [
      "loading cell geometry: CellMigliore2005\n",
      "loading cell range mechanisms\n",
      "inserting synapses\n",
      "creating morpho object\n",
      "loading cell geometry: CellMigliore2005Reduced\n",
      "loading cell range mechanisms\n",
      "inserting synapses\n",
      "creating morpho object\n",
      "WARNING The template 'model' is already defined... not loading.\n",
      "inserting synapses\n",
      "creating morpho object\n",
      "files ['Data/exp_full_neuron_polarization\\\\vtrace_df_0.pkl', 'Data/exp_full_neuron_polarization\\\\vtrace_df_1.pkl', 'Data/exp_full_neuron_polarization\\\\vtrace_df_2.pkl', 'Data/exp_full_neuron_polarization\\\\vtrace_df_3.pkl', 'Data/exp_full_neuron_polarization\\\\vtrace_df_4.pkl', 'Data/exp_full_neuron_polarization\\\\vtrace_df_5.pkl', 'Data/exp_full_neuron_polarization\\\\vtrace_df_6.pkl', 'Data/exp_full_neuron_polarization\\\\vtrace_df_7.pkl', 'Data/exp_full_neuron_polarization\\\\vtrace_df_8.pkl', 'Data/exp_full_neuron_polarization\\\\vtrace_df_9.pkl']\n",
      "10 variable files found\n",
      "group data loaded Data/exp_full_neuron_polarization\\vtrace_df_0.pkl\n",
      "group data loaded Data/exp_full_neuron_polarization\\vtrace_df_1.pkl\n",
      "group data loaded Data/exp_full_neuron_polarization\\vtrace_df_2.pkl\n",
      "group data loaded Data/exp_full_neuron_polarization\\vtrace_df_3.pkl\n",
      "group data loaded Data/exp_full_neuron_polarization\\vtrace_df_4.pkl\n",
      "group data loaded Data/exp_full_neuron_polarization\\vtrace_df_5.pkl\n",
      "group data loaded Data/exp_full_neuron_polarization\\vtrace_df_6.pkl\n",
      "group data loaded Data/exp_full_neuron_polarization\\vtrace_df_7.pkl\n",
      "group data loaded Data/exp_full_neuron_polarization\\vtrace_df_8.pkl\n",
      "group data loaded Data/exp_full_neuron_polarization\\vtrace_df_9.pkl\n",
      "search_string data\n",
      "total data files: 4\n",
      "new data files: 0\n",
      "updating group data structure\n",
      "iter files: 0\n",
      "saving updated group df\n",
      "file size 9061440\n",
      "total size 9061440\n",
      "splitting group df\n",
      "applying df function: _get_polarization\n",
      "processing all rows\n"
     ]
    },
    {
     "name": "stderr",
     "output_type": "stream",
     "text": [
      "F:\\Anaconda2\\lib\\site-packages\\ipykernel_launcher.py:1: PerformanceWarning: indexing past lexsort depth may impact performance.\n",
      "  \"\"\"Entry point for launching an IPython kernel.\n"
     ]
    },
    {
     "name": "stdout",
     "output_type": "stream",
     "text": [
      "location ('soma', 0, 0)\n",
      "e [0.0]\n",
      "location ('apic', 0, 0)\n",
      "e [0.5]\n",
      "location ('apic', 0, 1)\n",
      "e [0.25]\n",
      "location ('apic', 0, 2)\n",
      "e [0.75]\n",
      "location ('apic', 0, 3)\n",
      "e [1.125]\n",
      "location ('apic', 0, 4)\n",
      "e []\n",
      "location ('apic', 0, 5)\n",
      "e [0.5]\n",
      "location ('apic', 0, 6)\n",
      "e []\n",
      "location ('apic', 0, 7)\n",
      "e [1.875]\n",
      "location ('apic', 0, 8)\n",
      "e [2.5]\n",
      "location ('apic', 0, 9)\n",
      "e [1.25]\n",
      "location ('apic', 0, 10)\n",
      "e [3.0]\n",
      "location ('dend', 0, 0)\n",
      "e [-1.625]\n",
      "location ('dend', 0, 1)\n",
      "e [-1.5]\n",
      "location ('dend', 0, 2)\n",
      "e [-2.75]\n",
      "location ('dend', 1, 0)\n",
      "e [-1.5]\n",
      "location ('dend', 1, 1)\n",
      "e [-1.75]\n",
      "location ('dend', 1, 2)\n",
      "e [-2.75]\n",
      "setting up recording vectors\n",
      "simulation finished\n",
      "trial_id:2020-03-26-17-27-17-674000-03251, duration:37.1600000858\n",
      "saving data\n"
     ]
    }
   ],
   "source": [
    "exp.run()"
   ]
  },
  {
   "cell_type": "code",
   "execution_count": 679,
   "metadata": {},
   "outputs": [
    {
     "data": {
      "text/plain": [
       "location                                                    (dend, 1, 2)\n",
       "field                                                                 20\n",
       "index                                                               1106\n",
       "tree_key                                                            dend\n",
       "sec_num                                                                1\n",
       "seg_num                                                                2\n",
       "seg_loc                                                             0.75\n",
       "data_t                 [0.0, 0.025, 0.05, 0.075, 0.09999999999999999,...\n",
       "seg_dist                                                         258.777\n",
       "morpho                 (17, dend_1_2, 0.0, 326.6718660990397, 0.0, 4....\n",
       "n_paths                                                                0\n",
       "path                                                                 NaN\n",
       "paths                                                                 []\n",
       "w                                                                    NaN\n",
       "mechanism                                                            NaN\n",
       "w_mean                                                             0.001\n",
       "x_variables                                                          [t]\n",
       "tau_D1_ampa                                                      536.404\n",
       "pulses                                                                 4\n",
       "ghd_grad                                                               3\n",
       "gna_inact                                                              0\n",
       "fixnseg                                                            False\n",
       "nsec_apical_prox                                                       1\n",
       "p_path                                                               NaN\n",
       "clopath_tau_0                                                         30\n",
       "w_list                                                               NaN\n",
       "nsec_soma                                                              1\n",
       "plot_variables             [v, i, ik_kad, i_hd, ica_calH, ina_na3, gbar]\n",
       "pulse_freq                                                           100\n",
       "tau1_nmda                                                              1\n",
       "                                             ...                        \n",
       "i_ampa                                                              0.18\n",
       "RaAx                                                                  50\n",
       "branch                                                             False\n",
       "branch_seg_distance                                                  NaN\n",
       "seg_L                                                                  4\n",
       "RmAll                                                              28000\n",
       "d1_ampa                                                         0.457616\n",
       "tau_D2_ampa                                                      45.1882\n",
       "group_trees                                                        False\n",
       "L_apical_prox                                                       1000\n",
       "tau_F_ampa                                                       94.8048\n",
       "ka_cutoff_distance                                                   350\n",
       "tau_D3_ampa                                                       118016\n",
       "sec_list                                                             NaN\n",
       "vhalfn_kad                                                            -1\n",
       "clopath_tetam                                                        -70\n",
       "KMULTP                                                              0.03\n",
       "vhalfl_hd_dist                                                       -90\n",
       "ghd                                                                5e-05\n",
       "clopath_tetap                                                        -65\n",
       "AXONM                                                                100\n",
       "Vrest                                                                -65\n",
       "field_on                                                               0\n",
       "field_names                                  [cathodal, control, anodal]\n",
       "fig_folder                                                              \n",
       "full_path                                                          False\n",
       "diam1_basal                                                          1.9\n",
       "mechanism_v                                                            v\n",
       "data_v                 [-71.4, -71.40014588013639, -71.4000275892015,...\n",
       "polarization                                                         NaN\n",
       "Name: 1106, Length: 133, dtype: object"
      ]
     },
     "execution_count": 679,
     "metadata": {},
     "output_type": "execute_result"
    }
   ],
   "source": [
    "exp.vtrace_df.iloc[-1]"
   ]
  },
  {
   "cell_type": "code",
   "execution_count": 660,
   "metadata": {},
   "outputs": [
    {
     "data": {
      "text/plain": [
       "[<matplotlib.lines.Line2D at 0x760b2198>]"
      ]
     },
     "execution_count": 660,
     "metadata": {},
     "output_type": "execute_result"
    },
    {
     "data": {
      "image/png": "[encoded data removed]",
      "text/plain": [
       "<Figure size 432x288 with 1 Axes>"
      ]
     },
     "metadata": {
      "needs_background": "light"
     },
     "output_type": "display_data"
    },
    {
     "data": {
      "image/png": "[encoded data removed]",
      "text/plain": [
       "<Figure size 432x288 with 1 Axes>"
      ]
     },
     "metadata": {
      "needs_background": "light"
     },
     "output_type": "display_data"
    }
   ],
   "source": [
    "# plt.figure()\n",
    "# plt.plot(functions._2array(exp.data.data_v).T)\n",
    "# plt.show(block=False)\n",
    "df = functions._set_index(exp.data, ['tree_key','sec_num', 'seg_num'])\n",
    "plt.figure()\n",
    "plt.plot(functions._2array(df.loc['apic'].data_v).T)\n",
    "plt.figure()\n",
    "plt.plot(df.loc[('soma',0,0)].data_v)"
   ]
  },
  {
   "cell_type": "code",
   "execution_count": 536,
   "metadata": {},
   "outputs": [],
   "source": [
    "loc_map = exp.cell_reduced._create_loc_map(exp.cell)"
   ]
  },
  {
   "cell_type": "code",
   "execution_count": 664,
   "metadata": {},
   "outputs": [
    {
     "data": {
      "text/plain": [
       "{('apic', 0, 0): [-0.5614350348448056],\n",
       " ('apic', 0, 1): [-0.08322656755854041,\n",
       "  -0.2126466807257117,\n",
       "  -0.0013083138493215074,\n",
       "  -0.09377765781431435,\n",
       "  -0.024069121319726605,\n",
       "  -0.2086277383204873,\n",
       "  -0.09837232255543427,\n",
       "  -1.2730137412784757,\n",
       "  -1.0974659654099668,\n",
       "  -0.3286949116988751,\n",
       "  -0.9138502481523716,\n",
       "  -0.017496119649891284,\n",
       "  -0.8666670291606238,\n",
       "  -0.35265063427178234,\n",
       "  -1.3650577368446335,\n",
       "  -0.5481777213000356,\n",
       "  -0.3554543298435533,\n",
       "  -0.5438105189175104,\n",
       "  -0.6084315559037634,\n",
       "  -0.33556556854115627,\n",
       "  -0.2262659089669654,\n",
       "  -0.9199377387892298,\n",
       "  -0.6842712639805626,\n",
       "  -0.15838931162983272,\n",
       "  0.06370764243936833,\n",
       "  -0.22335087155666145,\n",
       "  0.05377275107871071,\n",
       "  -0.3865076486508059,\n",
       "  -0.25595211616071367,\n",
       "  -1.4900290113883585,\n",
       "  -1.4154009648746353,\n",
       "  -0.3042489649793225,\n",
       "  -0.24006250864037781,\n",
       "  -0.19250321106251533,\n",
       "  0.007157531668156025,\n",
       "  -0.059290758247769304,\n",
       "  -0.5280767302978688,\n",
       "  -0.3643584302653977,\n",
       "  -0.08752648599627832,\n",
       "  0.13775974559173676,\n",
       "  -0.1525680814087167,\n",
       "  -0.04173828481248165,\n",
       "  -0.6611926942713495,\n",
       "  -0.2837939584686495,\n",
       "  -0.6289650541810374,\n",
       "  -0.10572174833318115,\n",
       "  -0.0022849313692461237,\n",
       "  -0.19218458719703335,\n",
       "  0.003105241024528027,\n",
       "  -0.8530427940709302,\n",
       "  0.018050455815597388,\n",
       "  -0.6654110216107512,\n",
       "  -0.5747461619354937,\n",
       "  -0.1316941737947559],\n",
       " ('apic', 0, 2): [-0.7632647189060435],\n",
       " ('apic', 0, 3): [-1.1055482103419365, -1.0457544816946296],\n",
       " ('apic', 0, 5): [-0.9115012147150594,\n",
       "  0.14484330947043134,\n",
       "  -0.6354078239403265,\n",
       "  -1.0436972024953803,\n",
       "  -0.9475433174161338,\n",
       "  -1.0426426273258897,\n",
       "  -0.7492379673147127,\n",
       "  -0.1654031096569497,\n",
       "  -0.8682473109935955,\n",
       "  -2.006747359931353,\n",
       "  0.13468504184224628,\n",
       "  -0.3023947713101194,\n",
       "  -1.4096889911745478,\n",
       "  0.11177802324436925,\n",
       "  -1.1260026564986418,\n",
       "  -0.1163552001260797,\n",
       "  -0.004166612142938675,\n",
       "  -0.5381225359706576,\n",
       "  0.14765187950227698,\n",
       "  -0.6095775874259317,\n",
       "  -0.7538411986191846,\n",
       "  -0.5729904703219262,\n",
       "  0.1235882173173053,\n",
       "  0.04974800150404235,\n",
       "  0.03167344981585529,\n",
       "  -1.21928237310739,\n",
       "  -1.3412909091960614,\n",
       "  -1.5314884875098613,\n",
       "  0.05201952732736004,\n",
       "  -0.38424713275010447,\n",
       "  0.11206655548691913,\n",
       "  0.017105756420320972,\n",
       "  -1.6139667934909738,\n",
       "  0.1701169656418955,\n",
       "  -0.18417281121764972,\n",
       "  -0.7463610685074116,\n",
       "  -0.5191988203566638,\n",
       "  -0.006385483146161164,\n",
       "  -0.37353476675559705,\n",
       "  -0.08195459306232067,\n",
       "  -0.8734014694612711,\n",
       "  0.06678428904437794,\n",
       "  -1.4882838202981503,\n",
       "  -0.9941106921056075,\n",
       "  -0.055026046303311205,\n",
       "  0.08136855347231631,\n",
       "  -1.2945783306956145,\n",
       "  0.022289681472187794,\n",
       "  -0.7167522976072149,\n",
       "  -1.530945309864947,\n",
       "  -0.22841197317204376,\n",
       "  -0.6635299651305218,\n",
       "  -0.2661541286687594,\n",
       "  -0.45931408160079457,\n",
       "  -1.3392264798650189,\n",
       "  -0.5754719271359363,\n",
       "  -1.1030764458364217,\n",
       "  -0.5311183306567955,\n",
       "  -0.5839949238325204,\n",
       "  0.1773579860385155,\n",
       "  -0.6831550606102894,\n",
       "  0.21552745978831922,\n",
       "  -0.6580559407248927,\n",
       "  -0.6358521094046807,\n",
       "  0.04999849815017399,\n",
       "  -1.996511449355964,\n",
       "  -0.2130806293827021,\n",
       "  -0.796990301263051,\n",
       "  -0.1415332676610177,\n",
       "  -1.311673245848553,\n",
       "  -0.2539755581291274,\n",
       "  -0.422303942505053,\n",
       "  0.17195743996407487,\n",
       "  0.03357333322416878,\n",
       "  0.10941207343857684,\n",
       "  0.06569154597669069,\n",
       "  -0.8433210776966007,\n",
       "  -0.6214359703934207,\n",
       "  0.15574006627058168,\n",
       "  -0.6806279574014411,\n",
       "  -0.46551156430163587,\n",
       "  -0.5100740073087735,\n",
       "  0.3194780532428325,\n",
       "  -0.0951918698162757,\n",
       "  -0.5718927871844102,\n",
       "  0.06073826397761195,\n",
       "  -1.8036359351165032,\n",
       "  -0.7120632603840136,\n",
       "  0.11314048889646244,\n",
       "  -1.800114897735554,\n",
       "  -0.6369061720209572,\n",
       "  0.024052515567234423,\n",
       "  -0.00917263675054869,\n",
       "  0.18483023491796757,\n",
       "  0.06371989894344665,\n",
       "  0.17246715221027387,\n",
       "  -0.09477440075870902,\n",
       "  -0.9554361214703562,\n",
       "  -0.026988180554894825,\n",
       "  -0.44446180918491507,\n",
       "  -1.5612631350924744,\n",
       "  -0.2859129069199753,\n",
       "  -0.03796788304471477,\n",
       "  -0.9219260835115364,\n",
       "  0.16730060243837386,\n",
       "  0.08189936564457412,\n",
       "  0.1008734138715397,\n",
       "  -0.06727414335783521,\n",
       "  0.05699352828357007,\n",
       "  0.09108484196920585,\n",
       "  -0.04190138274822175,\n",
       "  -1.0550395544499764,\n",
       "  0.04186836902213997,\n",
       "  -1.411289756081601,\n",
       "  -0.6589633475896761,\n",
       "  -1.9856870670607378,\n",
       "  -0.06429402657468586,\n",
       "  -0.27185664276944976,\n",
       "  0.11852608573572354],\n",
       " ('apic', 0, 7): [-2.055539817671743, -2.0351625372024387],\n",
       " ('apic', 0, 8): [-2.624474951745597],\n",
       " ('apic', 0, 9): [-0.06737549607520066,\n",
       "  -1.254590505231704,\n",
       "  -1.9490245058310904,\n",
       "  -0.16808666926235105,\n",
       "  -1.9364715310528737,\n",
       "  -0.6540347924472627,\n",
       "  -0.8609927177054431,\n",
       "  -0.7903149936163487,\n",
       "  -0.36055978438234604,\n",
       "  -1.3393340826748812,\n",
       "  -1.490339512206205,\n",
       "  -1.0913768020764394,\n",
       "  -1.4956827276953106,\n",
       "  -0.20567582484855507,\n",
       "  -0.6855258849262498,\n",
       "  -2.1682908343047984,\n",
       "  -1.0742354098358078,\n",
       "  -1.1023354272778931,\n",
       "  -0.7046609047254861,\n",
       "  -1.1635051707148136,\n",
       "  -2.297943134302187,\n",
       "  -0.6812294922442135,\n",
       "  -1.7969751595468182,\n",
       "  -0.9219650668746198,\n",
       "  -0.9199830733461596,\n",
       "  -0.6429217279974182,\n",
       "  -1.6456520299775406,\n",
       "  -1.023321893260004,\n",
       "  -1.9094187632555588,\n",
       "  -1.1957680349726019,\n",
       "  -1.7948462112261154,\n",
       "  -1.4432397484622186,\n",
       "  -1.0891835279363704,\n",
       "  -1.06562735704388,\n",
       "  -1.4524639961248624,\n",
       "  -0.9301535138568937,\n",
       "  -2.6024488864928514,\n",
       "  -1.711290277314859,\n",
       "  -0.11688554902873705,\n",
       "  -1.7826799025180122,\n",
       "  -1.0115308851256088,\n",
       "  -1.2956205070451716,\n",
       "  -2.024022355575781,\n",
       "  -1.5804138795490843,\n",
       "  -0.7589394216754357,\n",
       "  -1.6608131437955507,\n",
       "  -0.025528318132685968,\n",
       "  -0.22286516509790033,\n",
       "  -0.4689768254756217,\n",
       "  -1.4776889410528753,\n",
       "  -2.5627063666440932,\n",
       "  -0.9865507867077952,\n",
       "  -2.299056852881762,\n",
       "  -0.9712973741265785],\n",
       " ('apic', 0, 10): [-3.0126300251745874],\n",
       " ('dend', 0, 0): [1.712004759126927,\n",
       "  1.1401840506314187,\n",
       "  1.9937957731773253,\n",
       "  1.195597382789245,\n",
       "  1.3925314024000386,\n",
       "  2.29168236862391,\n",
       "  2.0245504749936742,\n",
       "  1.1737338137377122,\n",
       "  1.794014695193212,\n",
       "  1.8367024024667842,\n",
       "  1.2144790511163421,\n",
       "  1.1064351232744656,\n",
       "  1.499262036766524,\n",
       "  0.959828264466708,\n",
       "  1.25315738772926,\n",
       "  1.8022988565283669,\n",
       "  1.699183477304942,\n",
       "  2.230575413745214,\n",
       "  0.9850289457067305,\n",
       "  1.2052560926521352,\n",
       "  1.1844567751086714,\n",
       "  0.8578407871319058,\n",
       "  1.3793039107906537],\n",
       " ('dend', 0, 1): [2.073475778469202,\n",
       "  0.7325370432356522,\n",
       "  2.222655373666342,\n",
       "  2.425600327124073,\n",
       "  1.6189011924075345,\n",
       "  1.520597589319479,\n",
       "  0.8887640802148127,\n",
       "  1.806350457525241,\n",
       "  0.8508364967197224,\n",
       "  0.6080775043103301,\n",
       "  1.3074391936854965,\n",
       "  2.4922584053788768,\n",
       "  0.8710399519081591,\n",
       "  2.6525409173202092,\n",
       "  2.045379896941398,\n",
       "  2.6350206931220157,\n",
       "  0.6547944620472776,\n",
       "  2.465059877415797,\n",
       "  0.7475777775053984,\n",
       "  1.8393746957855086,\n",
       "  0.6284358239439456,\n",
       "  0.742196452956378,\n",
       "  2.437607598381277,\n",
       "  1.319727301426795,\n",
       "  1.8522880966368547,\n",
       "  2.0660157055707913,\n",
       "  2.5742303925103585,\n",
       "  2.1852951890592607,\n",
       "  1.2654911323482452,\n",
       "  1.2413179852143514,\n",
       "  0.7802717780501638,\n",
       "  0.7794938670598555,\n",
       "  0.5822663484301103,\n",
       "  0.6457678986183453,\n",
       "  1.5759106925523696,\n",
       "  1.1407071588261886,\n",
       "  0.850766377119399],\n",
       " ('dend', 0, 2): [3.045927181507494,\n",
       "  3.294763235400623,\n",
       "  2.542683036242778,\n",
       "  2.9878306448651415,\n",
       "  2.7954522569231273,\n",
       "  2.47369341612945,\n",
       "  3.0860037295257,\n",
       "  1.4536252429866465,\n",
       "  2.1731622265125736,\n",
       "  2.971549605124167,\n",
       "  2.5669001743930693,\n",
       "  1.4323341399274483,\n",
       "  1.8970584067308778,\n",
       "  3.2260401707780346,\n",
       "  3.0549917304388714,\n",
       "  1.5629015007348528,\n",
       "  3.198868217866206,\n",
       "  1.8526137936327274,\n",
       "  2.4658900953339327,\n",
       "  3.1419237895614884,\n",
       "  3.3897590612874637,\n",
       "  3.057294243148192,\n",
       "  2.6633766662985323],\n",
       " ('dend', 1, 0): [1.102185314412651,\n",
       "  2.5190127697756424,\n",
       "  1.492904116939286,\n",
       "  1.6229831247841275,\n",
       "  1.107027423390619,\n",
       "  0.7098005349708387,\n",
       "  1.0700004572898791,\n",
       "  0.9501079275383546,\n",
       "  2.4186855741916986,\n",
       "  1.8728212053814417,\n",
       "  1.8866452234500741],\n",
       " ('dend', 1, 1): [2.317204159041964,\n",
       "  2.11622595049721,\n",
       "  1.5718720033884068,\n",
       "  0.7828392495261198,\n",
       "  2.5568882848660905,\n",
       "  1.408061546371016,\n",
       "  2.916915026004787,\n",
       "  1.3347327603135284,\n",
       "  0.6043341023150504,\n",
       "  0.7803680753885232,\n",
       "  1.2785344910319623,\n",
       "  0.6122166545104193,\n",
       "  2.91877247127789,\n",
       "  2.1025944171514084,\n",
       "  0.5497604461482268],\n",
       " ('dend', 1, 2): [2.7904911425136163,\n",
       "  3.3078357728178673,\n",
       "  3.253000354438967,\n",
       "  2.658316219707217,\n",
       "  3.352225592313985,\n",
       "  2.091191949911206,\n",
       "  2.1155216728382413,\n",
       "  3.448760449245995,\n",
       "  1.7830632935966548,\n",
       "  2.650039879896255,\n",
       "  3.199843288216073],\n",
       " ('soma', 0, 0): 0.09110119015322482}"
      ]
     },
     "execution_count": 664,
     "metadata": {},
     "output_type": "execute_result"
    }
   ],
   "source": [
    "exp.polarization_map"
   ]
  },
  {
   "cell_type": "code",
   "execution_count": 677,
   "metadata": {},
   "outputs": [
    {
     "ename": "KeyError",
     "evalue": "'name'",
     "output_type": "error",
     "traceback": [
      "\u001b[1;31m---------------------------------------------------------------------------\u001b[0m",
      "\u001b[1;31mKeyError\u001b[0m                                  Traceback (most recent call last)",
      "\u001b[1;32m<ipython-input-677-405652f83440>\u001b[0m in \u001b[0;36m<module>\u001b[1;34m()\u001b[0m\n\u001b[0;32m      1\u001b[0m \u001b[0mv_df\u001b[0m \u001b[1;33m=\u001b[0m \u001b[0mfunctions\u001b[0m\u001b[1;33m.\u001b[0m\u001b[0m_set_index\u001b[0m\u001b[1;33m(\u001b[0m\u001b[0mexp\u001b[0m\u001b[1;33m.\u001b[0m\u001b[0mvtrace_df\u001b[0m\u001b[1;33m,\u001b[0m \u001b[1;33m[\u001b[0m\u001b[1;34m'tree_key'\u001b[0m\u001b[1;33m,\u001b[0m \u001b[1;34m'sec_num'\u001b[0m\u001b[1;33m,\u001b[0m\u001b[1;34m'seg_num'\u001b[0m\u001b[1;33m]\u001b[0m\u001b[1;33m)\u001b[0m\u001b[1;33m\u001b[0m\u001b[0m\n\u001b[0;32m      2\u001b[0m \u001b[0mv_df\u001b[0m\u001b[1;33m.\u001b[0m\u001b[0mloc\u001b[0m\u001b[1;33m[\u001b[0m\u001b[1;34m'soma'\u001b[0m\u001b[1;33m]\u001b[0m\u001b[1;33m[\u001b[0m\u001b[1;33m[\u001b[0m\u001b[1;34m'field'\u001b[0m\u001b[1;33m,\u001b[0m\u001b[1;34m'polarization'\u001b[0m\u001b[1;33m]\u001b[0m\u001b[1;33m]\u001b[0m\u001b[1;33m\u001b[0m\u001b[0m\n\u001b[1;32m----> 3\u001b[1;33m \u001b[0mexp\u001b[0m\u001b[1;33m.\u001b[0m\u001b[0mP\u001b[0m\u001b[1;33m.\u001b[0m\u001b[0mp\u001b[0m\u001b[1;33m[\u001b[0m\u001b[1;34m'name'\u001b[0m\u001b[1;33m]\u001b[0m\u001b[1;33m\u001b[0m\u001b[0m\n\u001b[0m",
      "\u001b[1;31mKeyError\u001b[0m: 'name'"
     ]
    }
   ],
   "source": [
    "v_df = functions._set_index(exp.vtrace_df, ['tree_key', 'sec_num','seg_num'])\n",
    "v_df.loc['soma'][['field','polarization']]\n",
    "exp.P.p['name']"
   ]
  },
  {
   "cell_type": "code",
   "execution_count": 676,
   "metadata": {},
   "outputs": [
    {
     "ename": "TypeError",
     "evalue": "HocObject: Only Vector instance can be pickled",
     "output_type": "error",
     "traceback": [
      "\u001b[1;31m---------------------------------------------------------------------------\u001b[0m",
      "\u001b[1;31mTypeError\u001b[0m                                 Traceback (most recent call last)",
      "\u001b[1;32m<ipython-input-676-de46feed8c44>\u001b[0m in \u001b[0;36m<module>\u001b[1;34m()\u001b[0m\n\u001b[0;32m      1\u001b[0m \u001b[1;32mimport\u001b[0m \u001b[0mcopy\u001b[0m\u001b[1;33m\u001b[0m\u001b[0m\n\u001b[1;32m----> 2\u001b[1;33m \u001b[0mtest\u001b[0m \u001b[1;33m=\u001b[0m \u001b[0mcopy\u001b[0m\u001b[1;33m.\u001b[0m\u001b[0mdeepcopy\u001b[0m\u001b[1;33m(\u001b[0m\u001b[0mexp\u001b[0m\u001b[1;33m.\u001b[0m\u001b[0mcell_reduced\u001b[0m\u001b[1;33m)\u001b[0m\u001b[1;33m\u001b[0m\u001b[0m\n\u001b[0m",
      "\u001b[1;32mF:\\Anaconda2\\lib\\copy.pyc\u001b[0m in \u001b[0;36mdeepcopy\u001b[1;34m(x, memo, _nil)\u001b[0m\n\u001b[0;32m    188\u001b[0m                             raise Error(\n\u001b[0;32m    189\u001b[0m                                 \"un(deep)copyable object of type %s\" % cls)\n\u001b[1;32m--> 190\u001b[1;33m                 \u001b[0my\u001b[0m \u001b[1;33m=\u001b[0m \u001b[0m_reconstruct\u001b[0m\u001b[1;33m(\u001b[0m\u001b[0mx\u001b[0m\u001b[1;33m,\u001b[0m \u001b[0mrv\u001b[0m\u001b[1;33m,\u001b[0m \u001b[1;36m1\u001b[0m\u001b[1;33m,\u001b[0m \u001b[0mmemo\u001b[0m\u001b[1;33m)\u001b[0m\u001b[1;33m\u001b[0m\u001b[0m\n\u001b[0m\u001b[0;32m    191\u001b[0m \u001b[1;33m\u001b[0m\u001b[0m\n\u001b[0;32m    192\u001b[0m     \u001b[0mmemo\u001b[0m\u001b[1;33m[\u001b[0m\u001b[0md\u001b[0m\u001b[1;33m]\u001b[0m \u001b[1;33m=\u001b[0m \u001b[0my\u001b[0m\u001b[1;33m\u001b[0m\u001b[0m\n",
      "\u001b[1;32mF:\\Anaconda2\\lib\\copy.pyc\u001b[0m in \u001b[0;36m_reconstruct\u001b[1;34m(x, info, deep, memo)\u001b[0m\n\u001b[0;32m    332\u001b[0m     \u001b[1;32mif\u001b[0m \u001b[0mstate\u001b[0m \u001b[1;32mis\u001b[0m \u001b[1;32mnot\u001b[0m \u001b[0mNone\u001b[0m\u001b[1;33m:\u001b[0m\u001b[1;33m\u001b[0m\u001b[0m\n\u001b[0;32m    333\u001b[0m         \u001b[1;32mif\u001b[0m \u001b[0mdeep\u001b[0m\u001b[1;33m:\u001b[0m\u001b[1;33m\u001b[0m\u001b[0m\n\u001b[1;32m--> 334\u001b[1;33m             \u001b[0mstate\u001b[0m \u001b[1;33m=\u001b[0m \u001b[0mdeepcopy\u001b[0m\u001b[1;33m(\u001b[0m\u001b[0mstate\u001b[0m\u001b[1;33m,\u001b[0m \u001b[0mmemo\u001b[0m\u001b[1;33m)\u001b[0m\u001b[1;33m\u001b[0m\u001b[0m\n\u001b[0m\u001b[0;32m    335\u001b[0m         \u001b[1;32mif\u001b[0m \u001b[0mhasattr\u001b[0m\u001b[1;33m(\u001b[0m\u001b[0my\u001b[0m\u001b[1;33m,\u001b[0m \u001b[1;34m'__setstate__'\u001b[0m\u001b[1;33m)\u001b[0m\u001b[1;33m:\u001b[0m\u001b[1;33m\u001b[0m\u001b[0m\n\u001b[0;32m    336\u001b[0m             \u001b[0my\u001b[0m\u001b[1;33m.\u001b[0m\u001b[0m__setstate__\u001b[0m\u001b[1;33m(\u001b[0m\u001b[0mstate\u001b[0m\u001b[1;33m)\u001b[0m\u001b[1;33m\u001b[0m\u001b[0m\n",
      "\u001b[1;32mF:\\Anaconda2\\lib\\copy.pyc\u001b[0m in \u001b[0;36mdeepcopy\u001b[1;34m(x, memo, _nil)\u001b[0m\n\u001b[0;32m    161\u001b[0m     \u001b[0mcopier\u001b[0m \u001b[1;33m=\u001b[0m \u001b[0m_deepcopy_dispatch\u001b[0m\u001b[1;33m.\u001b[0m\u001b[0mget\u001b[0m\u001b[1;33m(\u001b[0m\u001b[0mcls\u001b[0m\u001b[1;33m)\u001b[0m\u001b[1;33m\u001b[0m\u001b[0m\n\u001b[0;32m    162\u001b[0m     \u001b[1;32mif\u001b[0m \u001b[0mcopier\u001b[0m\u001b[1;33m:\u001b[0m\u001b[1;33m\u001b[0m\u001b[0m\n\u001b[1;32m--> 163\u001b[1;33m         \u001b[0my\u001b[0m \u001b[1;33m=\u001b[0m \u001b[0mcopier\u001b[0m\u001b[1;33m(\u001b[0m\u001b[0mx\u001b[0m\u001b[1;33m,\u001b[0m \u001b[0mmemo\u001b[0m\u001b[1;33m)\u001b[0m\u001b[1;33m\u001b[0m\u001b[0m\n\u001b[0m\u001b[0;32m    164\u001b[0m     \u001b[1;32melse\u001b[0m\u001b[1;33m:\u001b[0m\u001b[1;33m\u001b[0m\u001b[0m\n\u001b[0;32m    165\u001b[0m         \u001b[1;32mtry\u001b[0m\u001b[1;33m:\u001b[0m\u001b[1;33m\u001b[0m\u001b[0m\n",
      "\u001b[1;32mF:\\Anaconda2\\lib\\copy.pyc\u001b[0m in \u001b[0;36m_deepcopy_dict\u001b[1;34m(x, memo)\u001b[0m\n\u001b[0;32m    255\u001b[0m     \u001b[0mmemo\u001b[0m\u001b[1;33m[\u001b[0m\u001b[0mid\u001b[0m\u001b[1;33m(\u001b[0m\u001b[0mx\u001b[0m\u001b[1;33m)\u001b[0m\u001b[1;33m]\u001b[0m \u001b[1;33m=\u001b[0m \u001b[0my\u001b[0m\u001b[1;33m\u001b[0m\u001b[0m\n\u001b[0;32m    256\u001b[0m     \u001b[1;32mfor\u001b[0m \u001b[0mkey\u001b[0m\u001b[1;33m,\u001b[0m \u001b[0mvalue\u001b[0m \u001b[1;32min\u001b[0m \u001b[0mx\u001b[0m\u001b[1;33m.\u001b[0m\u001b[0miteritems\u001b[0m\u001b[1;33m(\u001b[0m\u001b[1;33m)\u001b[0m\u001b[1;33m:\u001b[0m\u001b[1;33m\u001b[0m\u001b[0m\n\u001b[1;32m--> 257\u001b[1;33m         \u001b[0my\u001b[0m\u001b[1;33m[\u001b[0m\u001b[0mdeepcopy\u001b[0m\u001b[1;33m(\u001b[0m\u001b[0mkey\u001b[0m\u001b[1;33m,\u001b[0m \u001b[0mmemo\u001b[0m\u001b[1;33m)\u001b[0m\u001b[1;33m]\u001b[0m \u001b[1;33m=\u001b[0m \u001b[0mdeepcopy\u001b[0m\u001b[1;33m(\u001b[0m\u001b[0mvalue\u001b[0m\u001b[1;33m,\u001b[0m \u001b[0mmemo\u001b[0m\u001b[1;33m)\u001b[0m\u001b[1;33m\u001b[0m\u001b[0m\n\u001b[0m\u001b[0;32m    258\u001b[0m     \u001b[1;32mreturn\u001b[0m \u001b[0my\u001b[0m\u001b[1;33m\u001b[0m\u001b[0m\n\u001b[0;32m    259\u001b[0m \u001b[0md\u001b[0m\u001b[1;33m[\u001b[0m\u001b[0mdict\u001b[0m\u001b[1;33m]\u001b[0m \u001b[1;33m=\u001b[0m \u001b[0m_deepcopy_dict\u001b[0m\u001b[1;33m\u001b[0m\u001b[0m\n",
      "\u001b[1;32mF:\\Anaconda2\\lib\\copy.pyc\u001b[0m in \u001b[0;36mdeepcopy\u001b[1;34m(x, memo, _nil)\u001b[0m\n\u001b[0;32m    161\u001b[0m     \u001b[0mcopier\u001b[0m \u001b[1;33m=\u001b[0m \u001b[0m_deepcopy_dispatch\u001b[0m\u001b[1;33m.\u001b[0m\u001b[0mget\u001b[0m\u001b[1;33m(\u001b[0m\u001b[0mcls\u001b[0m\u001b[1;33m)\u001b[0m\u001b[1;33m\u001b[0m\u001b[0m\n\u001b[0;32m    162\u001b[0m     \u001b[1;32mif\u001b[0m \u001b[0mcopier\u001b[0m\u001b[1;33m:\u001b[0m\u001b[1;33m\u001b[0m\u001b[0m\n\u001b[1;32m--> 163\u001b[1;33m         \u001b[0my\u001b[0m \u001b[1;33m=\u001b[0m \u001b[0mcopier\u001b[0m\u001b[1;33m(\u001b[0m\u001b[0mx\u001b[0m\u001b[1;33m,\u001b[0m \u001b[0mmemo\u001b[0m\u001b[1;33m)\u001b[0m\u001b[1;33m\u001b[0m\u001b[0m\n\u001b[0m\u001b[0;32m    164\u001b[0m     \u001b[1;32melse\u001b[0m\u001b[1;33m:\u001b[0m\u001b[1;33m\u001b[0m\u001b[0m\n\u001b[0;32m    165\u001b[0m         \u001b[1;32mtry\u001b[0m\u001b[1;33m:\u001b[0m\u001b[1;33m\u001b[0m\u001b[0m\n",
      "\u001b[1;32mF:\\Anaconda2\\lib\\copy.pyc\u001b[0m in \u001b[0;36m_deepcopy_list\u001b[1;34m(x, memo)\u001b[0m\n\u001b[0;32m    228\u001b[0m     \u001b[0mmemo\u001b[0m\u001b[1;33m[\u001b[0m\u001b[0mid\u001b[0m\u001b[1;33m(\u001b[0m\u001b[0mx\u001b[0m\u001b[1;33m)\u001b[0m\u001b[1;33m]\u001b[0m \u001b[1;33m=\u001b[0m \u001b[0my\u001b[0m\u001b[1;33m\u001b[0m\u001b[0m\n\u001b[0;32m    229\u001b[0m     \u001b[1;32mfor\u001b[0m \u001b[0ma\u001b[0m \u001b[1;32min\u001b[0m \u001b[0mx\u001b[0m\u001b[1;33m:\u001b[0m\u001b[1;33m\u001b[0m\u001b[0m\n\u001b[1;32m--> 230\u001b[1;33m         \u001b[0my\u001b[0m\u001b[1;33m.\u001b[0m\u001b[0mappend\u001b[0m\u001b[1;33m(\u001b[0m\u001b[0mdeepcopy\u001b[0m\u001b[1;33m(\u001b[0m\u001b[0ma\u001b[0m\u001b[1;33m,\u001b[0m \u001b[0mmemo\u001b[0m\u001b[1;33m)\u001b[0m\u001b[1;33m)\u001b[0m\u001b[1;33m\u001b[0m\u001b[0m\n\u001b[0m\u001b[0;32m    231\u001b[0m     \u001b[1;32mreturn\u001b[0m \u001b[0my\u001b[0m\u001b[1;33m\u001b[0m\u001b[0m\n\u001b[0;32m    232\u001b[0m \u001b[0md\u001b[0m\u001b[1;33m[\u001b[0m\u001b[0mlist\u001b[0m\u001b[1;33m]\u001b[0m \u001b[1;33m=\u001b[0m \u001b[0m_deepcopy_list\u001b[0m\u001b[1;33m\u001b[0m\u001b[0m\n",
      "\u001b[1;32mF:\\Anaconda2\\lib\\copy.pyc\u001b[0m in \u001b[0;36mdeepcopy\u001b[1;34m(x, memo, _nil)\u001b[0m\n\u001b[0;32m    180\u001b[0m                     \u001b[0mreductor\u001b[0m \u001b[1;33m=\u001b[0m \u001b[0mgetattr\u001b[0m\u001b[1;33m(\u001b[0m\u001b[0mx\u001b[0m\u001b[1;33m,\u001b[0m \u001b[1;34m\"__reduce_ex__\"\u001b[0m\u001b[1;33m,\u001b[0m \u001b[0mNone\u001b[0m\u001b[1;33m)\u001b[0m\u001b[1;33m\u001b[0m\u001b[0m\n\u001b[0;32m    181\u001b[0m                     \u001b[1;32mif\u001b[0m \u001b[0mreductor\u001b[0m\u001b[1;33m:\u001b[0m\u001b[1;33m\u001b[0m\u001b[0m\n\u001b[1;32m--> 182\u001b[1;33m                         \u001b[0mrv\u001b[0m \u001b[1;33m=\u001b[0m \u001b[0mreductor\u001b[0m\u001b[1;33m(\u001b[0m\u001b[1;36m2\u001b[0m\u001b[1;33m)\u001b[0m\u001b[1;33m\u001b[0m\u001b[0m\n\u001b[0m\u001b[0;32m    183\u001b[0m                     \u001b[1;32melse\u001b[0m\u001b[1;33m:\u001b[0m\u001b[1;33m\u001b[0m\u001b[0m\n\u001b[0;32m    184\u001b[0m                         \u001b[0mreductor\u001b[0m \u001b[1;33m=\u001b[0m \u001b[0mgetattr\u001b[0m\u001b[1;33m(\u001b[0m\u001b[0mx\u001b[0m\u001b[1;33m,\u001b[0m \u001b[1;34m\"__reduce__\"\u001b[0m\u001b[1;33m,\u001b[0m \u001b[0mNone\u001b[0m\u001b[1;33m)\u001b[0m\u001b[1;33m\u001b[0m\u001b[0m\n",
      "\u001b[1;31mTypeError\u001b[0m: HocObject: Only Vector instance can be pickled"
     ]
    }
   ],
   "source": [
    "import copy\n",
    "test = copy.deepcopy(exp.cell_reduced)"
   ]
  },
  {
   "cell_type": "code",
   "execution_count": 538,
   "metadata": {},
   "outputs": [
    {
     "name": "stdout",
     "output_type": "stream",
     "text": [
      "files ['Data/exp_full_neuron_polarization\\\\vtrace_df_0.pkl', 'Data/exp_full_neuron_polarization\\\\vtrace_df_1.pkl', 'Data/exp_full_neuron_polarization\\\\vtrace_df_2.pkl', 'Data/exp_full_neuron_polarization\\\\vtrace_df_3.pkl', 'Data/exp_full_neuron_polarization\\\\vtrace_df_4.pkl', 'Data/exp_full_neuron_polarization\\\\vtrace_df_5.pkl', 'Data/exp_full_neuron_polarization\\\\vtrace_df_6.pkl', 'Data/exp_full_neuron_polarization\\\\vtrace_df_7.pkl', 'Data/exp_full_neuron_polarization\\\\vtrace_df_8.pkl', 'Data/exp_full_neuron_polarization\\\\vtrace_df_9.pkl']\n",
      "10 variable files found\n",
      "group data loaded Data/exp_full_neuron_polarization\\vtrace_df_0.pkl\n",
      "group data loaded Data/exp_full_neuron_polarization\\vtrace_df_1.pkl\n",
      "group data loaded Data/exp_full_neuron_polarization\\vtrace_df_2.pkl\n",
      "group data loaded Data/exp_full_neuron_polarization\\vtrace_df_3.pkl\n",
      "group data loaded Data/exp_full_neuron_polarization\\vtrace_df_4.pkl\n",
      "group data loaded Data/exp_full_neuron_polarization\\vtrace_df_5.pkl\n",
      "group data loaded Data/exp_full_neuron_polarization\\vtrace_df_6.pkl\n",
      "group data loaded Data/exp_full_neuron_polarization\\vtrace_df_7.pkl\n",
      "group data loaded Data/exp_full_neuron_polarization\\vtrace_df_8.pkl\n",
      "group data loaded Data/exp_full_neuron_polarization\\vtrace_df_9.pkl\n"
     ]
    }
   ],
   "source": [
    "ae = analyze_exp.analysis_exp_full_neuron_polarization(variables=['vtrace_df'])"
   ]
  },
  {
   "cell_type": "code",
   "execution_count": 539,
   "metadata": {},
   "outputs": [
    {
     "name": "stdout",
     "output_type": "stream",
     "text": [
      "applying df function: _get_polarization\n",
      "processing all rows\n",
      "building figdf: polarization_shapeplot\n",
      "plotting: _shapeplot\n",
      "-5 or polarization not in df index\n",
      "5 or polarization not in df index\n"
     ]
    },
    {
     "data": {
      "image/png": "[encoded data removed]",
      "text/plain": [
       "<Figure size 432x288 with 1 Axes>"
      ]
     },
     "metadata": {
      "needs_background": "light"
     },
     "output_type": "display_data"
    },
    {
     "data": {
      "image/png": "[encoded data removed]",
      "text/plain": [
       "<Figure size 432x288 with 2 Axes>"
      ]
     },
     "metadata": {
      "needs_background": "light"
     },
     "output_type": "display_data"
    },
    {
     "data": {
      "image/png": "[encoded data removed]",
      "text/plain": [
       "<Figure size 432x288 with 2 Axes>"
      ]
     },
     "metadata": {
      "needs_background": "light"
     },
     "output_type": "display_data"
    },
    {
     "data": {
      "image/png": "[encoded data removed]",
      "text/plain": [
       "<Figure size 432x288 with 1 Axes>"
      ]
     },
     "metadata": {
      "needs_background": "light"
     },
     "output_type": "display_data"
    },
    {
     "data": {
      "text/plain": [
       "({'anodal_20': <Figure size 432x288 with 2 Axes>,\n",
       "  'anodal_5': <Figure size 432x288 with 1 Axes>,\n",
       "  'cathodal_20': <Figure size 432x288 with 2 Axes>,\n",
       "  'cathodal_5': <Figure size 432x288 with 1 Axes>},\n",
       " {'anodal_20': <matplotlib.axes._subplots.AxesSubplot at 0x581042b0>,\n",
       "  'anodal_5': <matplotlib.axes._subplots.AxesSubplot at 0x585c8320>,\n",
       "  'cathodal_20': <matplotlib.axes._subplots.AxesSubplot at 0x48f6b278>,\n",
       "  'cathodal_5': <matplotlib.axes._subplots.AxesSubplot at 0x57ee4ac8>})"
      ]
     },
     "execution_count": 539,
     "metadata": {},
     "output_type": "execute_result"
    }
   ],
   "source": [
    "ae.polarization_shapeplot()"
   ]
  },
  {
   "cell_type": "code",
   "execution_count": 540,
   "metadata": {},
   "outputs": [],
   "source": [
    "polarization_map = exp.cell_reduced._get_polarization_map(ae.vtrace_df, loc_map, field=20)"
   ]
  },
  {
   "cell_type": "code",
   "execution_count": 541,
   "metadata": {},
   "outputs": [],
   "source": [
    "# polarization_map_mean = {}\n",
    "# polarization_map_std = {}\n",
    "# for key, val in polarization_map.iteritems():\n",
    "#     polarization_map_mean[key] = (np.mean(val),np.std(val))\n",
    "# #     polarization_map_std[key] = np.std(val)\n",
    "# polarization_map_mean\n",
    "# # polarization_map_std"
   ]
  },
  {
   "cell_type": "code",
   "execution_count": 542,
   "metadata": {},
   "outputs": [],
   "source": [
    "# vm =[]\n",
    "# l_lambda=[]\n",
    "# loc_temp =[]\n",
    "# for key, val in polarization_map_mean.iteritems():\n",
    "#     tree_key = key[0]\n",
    "#     sec = getattr(exp.cell_reduced.reduced_cell, tree_key)\n",
    "#     if tree_key == 'dend':\n",
    "#         sec = sec[key[1]]\n",
    "#     lamb = exp.cell_reduced._get_length_constant(sec)\n",
    "#     v = val[0]\n",
    "#     vm.append(v)\n",
    "#     l_lambda.append(lamb)\n",
    "#     loc_temp.append(key)\n",
    "# vm=np.array(vm)\n",
    "# l_lambda=np.array(l_lambda)"
   ]
  },
  {
   "cell_type": "code",
   "execution_count": null,
   "metadata": {},
   "outputs": [],
   "source": [
    "# def _get_mirror_estimate_from_polarization(vm, l_lambda, ):\n",
    "#     '''\n",
    "#     '''\n",
    "#     l_lambda_sum = np.sum(l_lambda**-2)\n",
    "#     print l_lambda_sum\n",
    "#     A = np.tile(l_lambda**-2, (len(vm), 1))\n",
    "#     print A[1,:]\n",
    "#     I = np.identity(len(vm))\n",
    "#     A = A - I*l_lambda_sum\n",
    "#     print A\n",
    "#     A_inv = np.linalg.inv(A)\n",
    "#     print 'A_inv',A_inv\n",
    "# #     v_ext = np.matmul(A_inv, vm*l_lambda_sum)\n",
    "#     v_ext = np.linalg.solve(A, vm*l_lambda_sum)\n",
    "#     v_ext = v_ext-np.mean(v_ext)\n",
    "#     return v_ext"
   ]
  },
  {
   "cell_type": "code",
   "execution_count": 544,
   "metadata": {},
   "outputs": [],
   "source": [
    "vext = exp.cell._get_mirror_estimate_from_polarization(polarization_map=polarization_map, reduced_cell=exp.cell_reduced)"
   ]
  },
  {
   "cell_type": "code",
   "execution_count": 545,
   "metadata": {},
   "outputs": [],
   "source": [
    "# vext = _get_mirror_estimate_from_polarization(vm, l_lambda)"
   ]
  },
  {
   "cell_type": "code",
   "execution_count": 546,
   "metadata": {},
   "outputs": [
    {
     "data": {
      "text/plain": [
       "[(('dend', 1, 1), -1.5),\n",
       " (('apic', 0, 5), 0.5),\n",
       " (('apic', 0, 3), 1.125),\n",
       " (('apic', 0, 2), 0.625),\n",
       " (('apic', 0, 9), 1.0),\n",
       " (('dend', 1, 0), -1.375),\n",
       " (('soma', 0, 0), -0.375),\n",
       " (('apic', 0, 10), 3.0),\n",
       " (('dend', 0, 0), -1.5),\n",
       " (('apic', 0, 7), 1.875),\n",
       " (('dend', 0, 1), -1.5),\n",
       " (('apic', 0, 0), 0.5),\n",
       " (('dend', 1, 2), -2.75),\n",
       " (('dend', 0, 2), -2.75),\n",
       " (('apic', 0, 1), 0.25),\n",
       " (('apic', 0, 8), 2.5)]"
      ]
     },
     "execution_count": 546,
     "metadata": {},
     "output_type": "execute_result"
    }
   ],
   "source": [
    "vext"
   ]
  },
  {
   "cell_type": "code",
   "execution_count": 549,
   "metadata": {},
   "outputs": [
    {
     "data": {
      "text/plain": [
       "[(('apic', 0, 0), 0.5),\n",
       " (('apic', 0, 1), 0.25),\n",
       " (('apic', 0, 2), 0.625),\n",
       " (('apic', 0, 3), 1.125),\n",
       " (('apic', 0, 5), 0.5),\n",
       " (('apic', 0, 7), 1.875),\n",
       " (('apic', 0, 8), 2.5),\n",
       " (('apic', 0, 9), 1.0),\n",
       " (('apic', 0, 10), 3.0),\n",
       " (('dend', 0, 0), -1.5),\n",
       " (('dend', 0, 1), -1.5),\n",
       " (('dend', 0, 2), -2.75),\n",
       " (('dend', 1, 0), -1.375),\n",
       " (('dend', 1, 1), -1.5),\n",
       " (('dend', 1, 2), -2.75),\n",
       " (('soma', 0, 0), -0.375)]"
      ]
     },
     "execution_count": 549,
     "metadata": {},
     "output_type": "execute_result"
    }
   ],
   "source": [
    "sorted(vext)"
   ]
  },
  {
   "cell_type": "code",
   "execution_count": 558,
   "metadata": {},
   "outputs": [
    {
     "data": {
      "text/plain": [
       "[('dend',\n",
       "  'apic',\n",
       "  'apic',\n",
       "  'apic',\n",
       "  'apic',\n",
       "  'dend',\n",
       "  'soma',\n",
       "  'apic',\n",
       "  'dend',\n",
       "  'apic',\n",
       "  'dend',\n",
       "  'apic',\n",
       "  'dend',\n",
       "  'dend',\n",
       "  'apic',\n",
       "  'apic'),\n",
       " (1, 0, 0, 0, 0, 1, 0, 0, 0, 0, 0, 0, 1, 0, 0, 0),\n",
       " (1, 5, 3, 2, 9, 0, 0, 10, 0, 7, 1, 0, 2, 2, 1, 8)]"
      ]
     },
     "execution_count": 558,
     "metadata": {},
     "output_type": "execute_result"
    }
   ],
   "source": [
    "zip(*zip(*vext)[0])"
   ]
  },
  {
   "cell_type": "code",
   "execution_count": 417,
   "metadata": {},
   "outputs": [
    {
     "data": {
      "text/plain": [
       "array([2018.4675336 , 2405.2045921 , 2405.2045921 , 2405.2045921 ,\n",
       "       2405.2045921 , 2018.4675336 , 2644.16341473, 2405.2045921 ,\n",
       "       2511.05453386, 2405.2045921 , 2511.05453386, 2405.2045921 ,\n",
       "       2018.4675336 , 2511.05453386, 2405.2045921 , 2405.2045921 ])"
      ]
     },
     "execution_count": 417,
     "metadata": {},
     "output_type": "execute_result"
    }
   ],
   "source": [
    "l_lambda"
   ]
  },
  {
   "cell_type": "code",
   "execution_count": null,
   "metadata": {},
   "outputs": [],
   "source": []
  },
  {
   "cell_type": "code",
   "execution_count": null,
   "metadata": {},
   "outputs": [],
   "source": []
  }
 ],
 "metadata": {
  "kernelspec": {
   "display_name": "Python 2",
   "language": "python",
   "name": "python2"
  },
  "language_info": {
   "codemirror_mode": {
    "name": "ipython",
    "version": 2
   },
   "file_extension": ".py",
   "mimetype": "text/x-python",
   "name": "python",
   "nbconvert_exporter": "python",
   "pygments_lexer": "ipython2",
   "version": "2.7.16"
  }
 },
 "nbformat": 4,
 "nbformat_minor": 2
}
