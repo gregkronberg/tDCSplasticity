{
 "cells": [
  {
   "cell_type": "code",
   "execution_count": 20,
   "metadata": {},
   "outputs": [
    {
     "data": {
      "text/plain": [
       "<module 'run_control' from 'run_control.pyc'>"
      ]
     },
     "execution_count": 20,
     "metadata": {},
     "output_type": "execute_result"
    }
   ],
   "source": [
    "import neurons\n",
    "import functions\n",
    "import matplotlib.pyplot as plt\n",
    "import stims\n",
    "import run_control\n",
    "import numpy as np\n",
    "import param\n",
    "import analyze_exp\n",
    "reload(param)\n",
    "reload(stims)\n",
    "reload(run_control.neuron)\n",
    "reload(functions)\n",
    "reload(neurons.neuron_reduce.reducing_methods)\n",
    "reload(neurons.neuron_reduce.subtree_reductor_func)\n",
    "reload(neurons)\n",
    "reload(functions)\n",
    "reload(stims)\n",
    "reload(analyze_exp)\n",
    "reload(run_control)"
   ]
  },
  {
   "cell_type": "code",
   "execution_count": 21,
   "metadata": {},
   "outputs": [
    {
     "name": "stdout",
     "output_type": "stream",
     "text": [
      "loading cell geometry: CellMigliore2005Reduced\n",
      "loading cell range mechanisms\n",
      "inserting synapses\n",
      "creating morpho object\n",
      "WARNING The template 'model' is already defined... not loading.\n",
      "There is no segment to segment copy, it means that some segments in the reduced model did not receive channels from the original cell\n",
      "trying to compensate by copying channels from neighboring segments\n",
      "inserting synapses\n",
      "creating morpho object\n",
      "(15L, 1000L) (15L, 1000L)\n",
      "source_idx [0, 1, 2, 3, 4, 5, 6, 7, 8, 9, 10, 11, 12, 13, 14]\n",
      "connecting 0 0 ampa 0.002\n",
      "connecting 0 0 nmda 0.002\n",
      "connecting 0 0 clopath 0.002\n",
      "connecting 0 1 ampa 0.002\n",
      "connecting 0 1 nmda 0.002\n",
      "connecting 0 1 clopath 0.002\n",
      "connecting 0 2 ampa 0.002\n",
      "connecting 0 2 nmda 0.002\n",
      "connecting 0 2 clopath 0.002\n",
      "connecting 0 3 ampa 0.002\n",
      "connecting 0 3 nmda 0.002\n",
      "connecting 0 3 clopath 0.002\n",
      "connecting 0 4 ampa 0.002\n",
      "connecting 0 4 nmda 0.002\n",
      "connecting 0 4 clopath 0.002\n",
      "connecting 0 5 ampa 0.002\n",
      "connecting 0 5 nmda 0.002\n",
      "connecting 0 5 clopath 0.002\n",
      "connecting 0 6 ampa 0.002\n",
      "connecting 0 6 nmda 0.002\n",
      "connecting 0 6 clopath 0.002\n",
      "connecting 0 7 ampa 0.002\n",
      "connecting 0 7 nmda 0.002\n",
      "connecting 0 7 clopath 0.002\n",
      "connecting 0 8 ampa 0.002\n",
      "connecting 0 8 nmda 0.002\n",
      "connecting 0 8 clopath 0.002\n",
      "connecting 0 9 ampa 0.002\n",
      "connecting 0 9 nmda 0.002\n",
      "connecting 0 9 clopath 0.002\n",
      "connecting 0 10 ampa 0.002\n",
      "connecting 0 10 nmda 0.002\n",
      "connecting 0 10 clopath 0.002\n",
      "connecting 0 11 ampa 0.002\n",
      "connecting 0 11 nmda 0.002\n",
      "connecting 0 11 clopath 0.002\n",
      "connecting 0 12 ampa 0.002\n",
      "connecting 0 12 nmda 0.002\n",
      "connecting 0 12 clopath 0.002\n",
      "connecting 0 13 ampa 0.002\n",
      "connecting 0 13 nmda 0.002\n",
      "connecting 0 13 clopath 0.002\n",
      "connecting 0 14 ampa 0.002\n",
      "connecting 0 14 nmda 0.002\n",
      "connecting 0 14 clopath 0.002\n",
      "source_idx [0, 1, 2, 3, 4, 5, 6, 7, 8, 9, 10, 11, 12, 13, 14]\n",
      "connecting 1 0 ampa 0.002\n",
      "connecting 1 0 nmda 0.002\n",
      "connecting 1 0 clopath 0.002\n",
      "connecting 1 1 ampa 0.002\n",
      "connecting 1 1 nmda 0.002\n",
      "connecting 1 1 clopath 0.002\n",
      "connecting 1 2 ampa 0.002\n",
      "connecting 1 2 nmda 0.002\n",
      "connecting 1 2 clopath 0.002\n",
      "connecting 1 3 ampa 0.002\n",
      "connecting 1 3 nmda 0.002\n",
      "connecting 1 3 clopath 0.002\n",
      "connecting 1 4 ampa 0.002\n",
      "connecting 1 4 nmda 0.002\n",
      "connecting 1 4 clopath 0.002\n",
      "connecting 1 5 ampa 0.002\n",
      "connecting 1 5 nmda 0.002\n",
      "connecting 1 5 clopath 0.002\n",
      "connecting 1 6 ampa 0.002\n",
      "connecting 1 6 nmda 0.002\n",
      "connecting 1 6 clopath 0.002\n",
      "connecting 1 7 ampa 0.002\n",
      "connecting 1 7 nmda 0.002\n",
      "connecting 1 7 clopath 0.002\n",
      "connecting 1 8 ampa 0.002\n",
      "connecting 1 8 nmda 0.002\n",
      "connecting 1 8 clopath 0.002\n",
      "connecting 1 9 ampa 0.002\n",
      "connecting 1 9 nmda 0.002\n",
      "connecting 1 9 clopath 0.002\n",
      "connecting 1 10 ampa 0.002\n",
      "connecting 1 10 nmda 0.002\n",
      "connecting 1 10 clopath 0.002\n",
      "connecting 1 11 ampa 0.002\n",
      "connecting 1 11 nmda 0.002\n",
      "connecting 1 11 clopath 0.002\n",
      "connecting 1 12 ampa 0.002\n",
      "connecting 1 12 nmda 0.002\n",
      "connecting 1 12 clopath 0.002\n",
      "connecting 1 13 ampa 0.002\n",
      "connecting 1 13 nmda 0.002\n",
      "connecting 1 13 clopath 0.002\n",
      "connecting 1 14 ampa 0.002\n",
      "connecting 1 14 nmda 0.002\n",
      "connecting 1 14 clopath 0.002\n",
      "source_idx [0, 1, 2, 3, 4, 5, 6, 7, 8, 9, 10, 11, 12, 13, 14]\n",
      "connecting 2 0 ampa 0.002\n",
      "connecting 2 0 nmda 0.002\n",
      "connecting 2 0 clopath 0.002\n",
      "connecting 2 1 ampa 0.002\n",
      "connecting 2 1 nmda 0.002\n",
      "connecting 2 1 clopath 0.002\n",
      "connecting 2 2 ampa 0.002\n",
      "connecting 2 2 nmda 0.002\n",
      "connecting 2 2 clopath 0.002\n",
      "connecting 2 3 ampa 0.002\n",
      "connecting 2 3 nmda 0.002\n",
      "connecting 2 3 clopath 0.002\n",
      "connecting 2 4 ampa 0.002\n",
      "connecting 2 4 nmda 0.002\n",
      "connecting 2 4 clopath 0.002\n",
      "connecting 2 5 ampa 0.002\n",
      "connecting 2 5 nmda 0.002\n",
      "connecting 2 5 clopath 0.002\n",
      "connecting 2 6 ampa 0.002\n",
      "connecting 2 6 nmda 0.002\n",
      "connecting 2 6 clopath 0.002\n",
      "connecting 2 7 ampa 0.002\n",
      "connecting 2 7 nmda 0.002\n",
      "connecting 2 7 clopath 0.002\n",
      "connecting 2 8 ampa 0.002\n",
      "connecting 2 8 nmda 0.002\n",
      "connecting 2 8 clopath 0.002\n",
      "connecting 2 9 ampa 0.002\n",
      "connecting 2 9 nmda 0.002\n",
      "connecting 2 9 clopath 0.002\n",
      "connecting 2 10 ampa 0.002\n",
      "connecting 2 10 nmda 0.002\n",
      "connecting 2 10 clopath 0.002\n",
      "connecting 2 11 ampa 0.002\n",
      "connecting 2 11 nmda 0.002\n",
      "connecting 2 11 clopath 0.002\n",
      "connecting 2 12 ampa 0.002\n",
      "connecting 2 12 nmda 0.002\n",
      "connecting 2 12 clopath 0.002\n",
      "connecting 2 13 ampa 0.002\n",
      "connecting 2 13 nmda 0.002\n",
      "connecting 2 13 clopath 0.002\n",
      "connecting 2 14 ampa 0.002\n",
      "connecting 2 14 nmda 0.002\n",
      "connecting 2 14 clopath 0.002\n",
      "source_idx [0, 1, 2, 3, 4, 5, 6, 7, 8, 9, 10, 11, 12, 13, 14]\n",
      "connecting 3 0 ampa 0.002\n",
      "connecting 3 0 nmda 0.002\n",
      "connecting 3 0 clopath 0.002\n",
      "connecting 3 1 ampa 0.002\n",
      "connecting 3 1 nmda 0.002\n",
      "connecting 3 1 clopath 0.002\n",
      "connecting 3 2 ampa 0.002\n",
      "connecting 3 2 nmda 0.002\n",
      "connecting 3 2 clopath 0.002\n",
      "connecting 3 3 ampa 0.002\n",
      "connecting 3 3 nmda 0.002\n",
      "connecting 3 3 clopath 0.002\n",
      "connecting 3 4 ampa 0.002\n",
      "connecting 3 4 nmda 0.002\n",
      "connecting 3 4 clopath 0.002\n",
      "connecting 3 5 ampa 0.002\n",
      "connecting 3 5 nmda 0.002\n",
      "connecting 3 5 clopath 0.002\n",
      "connecting 3 6 ampa 0.002\n",
      "connecting 3 6 nmda 0.002\n",
      "connecting 3 6 clopath 0.002\n",
      "connecting 3 7 ampa 0.002\n",
      "connecting 3 7 nmda 0.002\n",
      "connecting 3 7 clopath 0.002\n",
      "connecting 3 8 ampa 0.002\n",
      "connecting 3 8 nmda 0.002\n",
      "connecting 3 8 clopath 0.002\n",
      "connecting 3 9 ampa 0.002\n",
      "connecting 3 9 nmda 0.002\n",
      "connecting 3 9 clopath 0.002\n",
      "connecting 3 10 ampa 0.002\n",
      "connecting 3 10 nmda 0.002\n",
      "connecting 3 10 clopath 0.002\n",
      "connecting 3 11 ampa 0.002\n",
      "connecting 3 11 nmda 0.002\n",
      "connecting 3 11 clopath 0.002\n",
      "connecting 3 12 ampa 0.002\n",
      "connecting 3 12 nmda 0.002\n",
      "connecting 3 12 clopath 0.002\n",
      "connecting 3 13 ampa 0.002\n",
      "connecting 3 13 nmda 0.002\n",
      "connecting 3 13 clopath 0.002\n",
      "connecting 3 14 ampa 0.002\n",
      "connecting 3 14 nmda 0.002\n",
      "connecting 3 14 clopath 0.002\n",
      "source_idx [0, 1, 2, 3, 4, 5, 6, 7, 8, 9, 10, 11, 12, 13, 14]\n",
      "connecting 4 0 ampa 0.002\n",
      "connecting 4 0 nmda 0.002\n",
      "connecting 4 0 clopath 0.002\n",
      "connecting 4 1 ampa 0.002\n",
      "connecting 4 1 nmda 0.002\n",
      "connecting 4 1 clopath 0.002\n",
      "connecting 4 2 ampa 0.002\n",
      "connecting 4 2 nmda 0.002\n",
      "connecting 4 2 clopath 0.002\n",
      "connecting 4 3 ampa 0.002\n",
      "connecting 4 3 nmda 0.002\n",
      "connecting 4 3 clopath 0.002\n",
      "connecting 4 4 ampa 0.002\n",
      "connecting 4 4 nmda 0.002\n",
      "connecting 4 4 clopath 0.002\n",
      "connecting 4 5 ampa 0.002\n",
      "connecting 4 5 nmda 0.002\n",
      "connecting 4 5 clopath 0.002\n",
      "connecting 4 6 ampa 0.002\n",
      "connecting 4 6 nmda 0.002\n",
      "connecting 4 6 clopath 0.002\n",
      "connecting 4 7 ampa 0.002\n",
      "connecting 4 7 nmda 0.002\n",
      "connecting 4 7 clopath 0.002\n",
      "connecting 4 8 ampa 0.002\n",
      "connecting 4 8 nmda 0.002\n",
      "connecting 4 8 clopath 0.002\n",
      "connecting 4 9 ampa 0.002\n",
      "connecting 4 9 nmda 0.002\n",
      "connecting 4 9 clopath 0.002\n",
      "connecting 4 10 ampa 0.002\n",
      "connecting 4 10 nmda 0.002\n",
      "connecting 4 10 clopath 0.002\n",
      "connecting 4 11 ampa 0.002\n",
      "connecting 4 11 nmda 0.002\n",
      "connecting 4 11 clopath 0.002\n",
      "connecting 4 12 ampa 0.002\n",
      "connecting 4 12 nmda 0.002\n",
      "connecting 4 12 clopath 0.002\n",
      "connecting 4 13 ampa 0.002\n",
      "connecting 4 13 nmda 0.002\n",
      "connecting 4 13 clopath 0.002\n",
      "connecting 4 14 ampa 0.002\n",
      "connecting 4 14 nmda 0.002\n",
      "connecting 4 14 clopath 0.002\n",
      "source_idx [0, 1, 2, 3, 4, 5, 6, 7, 8, 9, 10, 11, 12, 13, 14]\n",
      "connecting 5 0 ampa 0.002\n",
      "connecting 5 0 nmda 0.002\n",
      "connecting 5 0 clopath 0.002\n",
      "connecting 5 1 ampa 0.002\n",
      "connecting 5 1 nmda 0.002\n",
      "connecting 5 1 clopath 0.002\n",
      "connecting 5 2 ampa 0.002\n",
      "connecting 5 2 nmda 0.002\n",
      "connecting 5 2 clopath 0.002\n",
      "connecting 5 3 ampa 0.002\n",
      "connecting 5 3 nmda 0.002\n",
      "connecting 5 3 clopath 0.002\n",
      "connecting 5 4 ampa 0.002\n",
      "connecting 5 4 nmda 0.002\n",
      "connecting 5 4 clopath 0.002\n",
      "connecting 5 5 ampa 0.002\n",
      "connecting 5 5 nmda 0.002\n",
      "connecting 5 5 clopath 0.002\n",
      "connecting 5 6 ampa 0.002\n",
      "connecting 5 6 nmda 0.002\n",
      "connecting 5 6 clopath 0.002\n",
      "connecting 5 7 ampa 0.002\n",
      "connecting 5 7 nmda 0.002\n",
      "connecting 5 7 clopath 0.002\n",
      "connecting 5 8 ampa 0.002\n",
      "connecting 5 8 nmda 0.002\n",
      "connecting 5 8 clopath 0.002\n",
      "connecting 5 9 ampa 0.002\n",
      "connecting 5 9 nmda 0.002\n",
      "connecting 5 9 clopath 0.002\n",
      "connecting 5 10 ampa 0.002\n",
      "connecting 5 10 nmda 0.002\n",
      "connecting 5 10 clopath 0.002\n",
      "connecting 5 11 ampa 0.002\n",
      "connecting 5 11 nmda 0.002\n",
      "connecting 5 11 clopath 0.002\n",
      "connecting 5 12 ampa 0.002\n",
      "connecting 5 12 nmda 0.002\n",
      "connecting 5 12 clopath 0.002\n",
      "connecting 5 13 ampa 0.002\n",
      "connecting 5 13 nmda 0.002\n",
      "connecting 5 13 clopath 0.002\n",
      "connecting 5 14 ampa 0.002\n",
      "connecting 5 14 nmda 0.002\n",
      "connecting 5 14 clopath 0.002\n",
      "source_idx [0, 1, 2, 3, 4, 5, 6, 7, 8, 9, 10, 11, 12, 13, 14]\n",
      "connecting 6 0 ampa 0.002\n",
      "connecting 6 0 nmda 0.002\n",
      "connecting 6 0 clopath 0.002\n",
      "connecting 6 1 ampa 0.002\n",
      "connecting 6 1 nmda 0.002\n",
      "connecting 6 1 clopath 0.002\n",
      "connecting 6 2 ampa 0.002\n",
      "connecting 6 2 nmda 0.002\n",
      "connecting 6 2 clopath 0.002\n",
      "connecting 6 3 ampa 0.002\n",
      "connecting 6 3 nmda 0.002\n",
      "connecting 6 3 clopath 0.002\n",
      "connecting 6 4 ampa 0.002\n",
      "connecting 6 4 nmda 0.002\n",
      "connecting 6 4 clopath 0.002\n",
      "connecting 6 5 ampa 0.002\n",
      "connecting 6 5 nmda 0.002\n",
      "connecting 6 5 clopath 0.002\n",
      "connecting 6 6 ampa 0.002\n",
      "connecting 6 6 nmda 0.002\n",
      "connecting 6 6 clopath 0.002\n",
      "connecting 6 7 ampa 0.002\n",
      "connecting 6 7 nmda 0.002\n",
      "connecting 6 7 clopath 0.002\n",
      "connecting 6 8 ampa 0.002\n",
      "connecting 6 8 nmda 0.002\n",
      "connecting 6 8 clopath 0.002\n",
      "connecting 6 9 ampa 0.002\n",
      "connecting 6 9 nmda 0.002\n",
      "connecting 6 9 clopath 0.002\n",
      "connecting 6 10 ampa 0.002\n",
      "connecting 6 10 nmda 0.002\n",
      "connecting 6 10 clopath 0.002\n",
      "connecting 6 11 ampa 0.002\n",
      "connecting 6 11 nmda 0.002\n",
      "connecting 6 11 clopath 0.002\n",
      "connecting 6 12 ampa 0.002\n",
      "connecting 6 12 nmda 0.002\n",
      "connecting 6 12 clopath 0.002\n",
      "connecting 6 13 ampa 0.002\n",
      "connecting 6 13 nmda 0.002\n",
      "connecting 6 13 clopath 0.002\n",
      "connecting 6 14 ampa 0.002\n",
      "connecting 6 14 nmda 0.002\n",
      "connecting 6 14 clopath 0.002\n",
      "source_idx [0, 1, 2, 3, 4, 5, 6, 7, 8, 9, 10, 11, 12, 13, 14]\n",
      "connecting 7 0 ampa 0.002\n",
      "connecting 7 0 nmda 0.002\n",
      "connecting 7 0 clopath 0.002\n",
      "connecting 7 1 ampa 0.002\n",
      "connecting 7 1 nmda 0.002\n",
      "connecting 7 1 clopath 0.002\n",
      "connecting 7 2 ampa 0.002\n",
      "connecting 7 2 nmda 0.002\n",
      "connecting 7 2 clopath 0.002\n",
      "connecting 7 3 ampa 0.002\n",
      "connecting 7 3 nmda 0.002\n",
      "connecting 7 3 clopath 0.002\n",
      "connecting 7 4 ampa 0.002\n",
      "connecting 7 4 nmda 0.002\n",
      "connecting 7 4 clopath 0.002\n",
      "connecting 7 5 ampa 0.002\n",
      "connecting 7 5 nmda 0.002\n",
      "connecting 7 5 clopath 0.002\n",
      "connecting 7 6 ampa 0.002\n",
      "connecting 7 6 nmda 0.002\n",
      "connecting 7 6 clopath 0.002\n",
      "connecting 7 7 ampa 0.002\n",
      "connecting 7 7 nmda 0.002\n",
      "connecting 7 7 clopath 0.002\n",
      "connecting 7 8 ampa 0.002\n",
      "connecting 7 8 nmda 0.002\n",
      "connecting 7 8 clopath 0.002\n",
      "connecting 7 9 ampa 0.002\n",
      "connecting 7 9 nmda 0.002\n",
      "connecting 7 9 clopath 0.002\n"
     ]
    },
    {
     "name": "stdout",
     "output_type": "stream",
     "text": [
      "connecting 7 10 ampa 0.002\n",
      "connecting 7 10 nmda 0.002\n",
      "connecting 7 10 clopath 0.002\n",
      "connecting 7 11 ampa 0.002\n",
      "connecting 7 11 nmda 0.002\n",
      "connecting 7 11 clopath 0.002\n",
      "connecting 7 12 ampa 0.002\n",
      "connecting 7 12 nmda 0.002\n",
      "connecting 7 12 clopath 0.002\n",
      "connecting 7 13 ampa 0.002\n",
      "connecting 7 13 nmda 0.002\n",
      "connecting 7 13 clopath 0.002\n",
      "connecting 7 14 ampa 0.002\n",
      "connecting 7 14 nmda 0.002\n",
      "connecting 7 14 clopath 0.002\n",
      "source_idx [0, 1, 2, 3, 4, 5, 6, 7, 8, 9, 10, 11, 12, 13, 14]\n",
      "connecting 8 0 ampa 0.002\n",
      "connecting 8 0 nmda 0.002\n",
      "connecting 8 0 clopath 0.002\n",
      "connecting 8 1 ampa 0.002\n",
      "connecting 8 1 nmda 0.002\n",
      "connecting 8 1 clopath 0.002\n",
      "connecting 8 2 ampa 0.002\n",
      "connecting 8 2 nmda 0.002\n",
      "connecting 8 2 clopath 0.002\n",
      "connecting 8 3 ampa 0.002\n",
      "connecting 8 3 nmda 0.002\n",
      "connecting 8 3 clopath 0.002\n",
      "connecting 8 4 ampa 0.002\n",
      "connecting 8 4 nmda 0.002\n",
      "connecting 8 4 clopath 0.002\n",
      "connecting 8 5 ampa 0.002\n",
      "connecting 8 5 nmda 0.002\n",
      "connecting 8 5 clopath 0.002\n",
      "connecting 8 6 ampa 0.002\n",
      "connecting 8 6 nmda 0.002\n",
      "connecting 8 6 clopath 0.002\n",
      "connecting 8 7 ampa 0.002\n",
      "connecting 8 7 nmda 0.002\n",
      "connecting 8 7 clopath 0.002\n",
      "connecting 8 8 ampa 0.002\n",
      "connecting 8 8 nmda 0.002\n",
      "connecting 8 8 clopath 0.002\n",
      "connecting 8 9 ampa 0.002\n",
      "connecting 8 9 nmda 0.002\n",
      "connecting 8 9 clopath 0.002\n",
      "connecting 8 10 ampa 0.002\n",
      "connecting 8 10 nmda 0.002\n",
      "connecting 8 10 clopath 0.002\n",
      "connecting 8 11 ampa 0.002\n",
      "connecting 8 11 nmda 0.002\n",
      "connecting 8 11 clopath 0.002\n",
      "connecting 8 12 ampa 0.002\n",
      "connecting 8 12 nmda 0.002\n",
      "connecting 8 12 clopath 0.002\n",
      "connecting 8 13 ampa 0.002\n",
      "connecting 8 13 nmda 0.002\n",
      "connecting 8 13 clopath 0.002\n",
      "connecting 8 14 ampa 0.002\n",
      "connecting 8 14 nmda 0.002\n",
      "connecting 8 14 clopath 0.002\n",
      "source_idx [0, 1, 2, 3, 4, 5, 6, 7, 8, 9, 10, 11, 12, 13, 14]\n",
      "connecting 9 0 ampa 0.002\n",
      "connecting 9 0 nmda 0.002\n",
      "connecting 9 0 clopath 0.002\n",
      "connecting 9 1 ampa 0.002\n",
      "connecting 9 1 nmda 0.002\n",
      "connecting 9 1 clopath 0.002\n",
      "connecting 9 2 ampa 0.002\n",
      "connecting 9 2 nmda 0.002\n",
      "connecting 9 2 clopath 0.002\n",
      "connecting 9 3 ampa 0.002\n",
      "connecting 9 3 nmda 0.002\n",
      "connecting 9 3 clopath 0.002\n",
      "connecting 9 4 ampa 0.002\n",
      "connecting 9 4 nmda 0.002\n",
      "connecting 9 4 clopath 0.002\n",
      "connecting 9 5 ampa 0.002\n",
      "connecting 9 5 nmda 0.002\n",
      "connecting 9 5 clopath 0.002\n",
      "connecting 9 6 ampa 0.002\n",
      "connecting 9 6 nmda 0.002\n",
      "connecting 9 6 clopath 0.002\n",
      "connecting 9 7 ampa 0.002\n",
      "connecting 9 7 nmda 0.002\n",
      "connecting 9 7 clopath 0.002\n",
      "connecting 9 8 ampa 0.002\n",
      "connecting 9 8 nmda 0.002\n",
      "connecting 9 8 clopath 0.002\n",
      "connecting 9 9 ampa 0.002\n",
      "connecting 9 9 nmda 0.002\n",
      "connecting 9 9 clopath 0.002\n",
      "connecting 9 10 ampa 0.002\n",
      "connecting 9 10 nmda 0.002\n",
      "connecting 9 10 clopath 0.002\n",
      "connecting 9 11 ampa 0.002\n",
      "connecting 9 11 nmda 0.002\n",
      "connecting 9 11 clopath 0.002\n",
      "connecting 9 12 ampa 0.002\n",
      "connecting 9 12 nmda 0.002\n",
      "connecting 9 12 clopath 0.002\n",
      "connecting 9 13 ampa 0.002\n",
      "connecting 9 13 nmda 0.002\n",
      "connecting 9 13 clopath 0.002\n",
      "connecting 9 14 ampa 0.002\n",
      "connecting 9 14 nmda 0.002\n",
      "connecting 9 14 clopath 0.002\n",
      "source_idx [0, 1, 2, 3, 4, 5, 6, 7, 8, 9, 10, 11, 12, 13, 14]\n",
      "connecting 10 0 ampa 0.002\n",
      "connecting 10 0 nmda 0.002\n",
      "connecting 10 0 clopath 0.002\n",
      "connecting 10 1 ampa 0.002\n",
      "connecting 10 1 nmda 0.002\n",
      "connecting 10 1 clopath 0.002\n",
      "connecting 10 2 ampa 0.002\n",
      "connecting 10 2 nmda 0.002\n",
      "connecting 10 2 clopath 0.002\n",
      "connecting 10 3 ampa 0.002\n",
      "connecting 10 3 nmda 0.002\n",
      "connecting 10 3 clopath 0.002\n",
      "connecting 10 4 ampa 0.002\n",
      "connecting 10 4 nmda 0.002\n",
      "connecting 10 4 clopath 0.002\n",
      "connecting 10 5 ampa 0.002\n",
      "connecting 10 5 nmda 0.002\n",
      "connecting 10 5 clopath 0.002\n",
      "connecting 10 6 ampa 0.002\n",
      "connecting 10 6 nmda 0.002\n",
      "connecting 10 6 clopath 0.002\n",
      "connecting 10 7 ampa 0.002\n",
      "connecting 10 7 nmda 0.002\n",
      "connecting 10 7 clopath 0.002\n",
      "connecting 10 8 ampa 0.002\n",
      "connecting 10 8 nmda 0.002\n",
      "connecting 10 8 clopath 0.002\n",
      "connecting 10 9 ampa 0.002\n",
      "connecting 10 9 nmda 0.002\n",
      "connecting 10 9 clopath 0.002\n",
      "connecting 10 10 ampa 0.002\n",
      "connecting 10 10 nmda 0.002\n",
      "connecting 10 10 clopath 0.002\n",
      "connecting 10 11 ampa 0.002\n",
      "connecting 10 11 nmda 0.002\n",
      "connecting 10 11 clopath 0.002\n",
      "connecting 10 12 ampa 0.002\n",
      "connecting 10 12 nmda 0.002\n",
      "connecting 10 12 clopath 0.002\n",
      "connecting 10 13 ampa 0.002\n",
      "connecting 10 13 nmda 0.002\n",
      "connecting 10 13 clopath 0.002\n",
      "connecting 10 14 ampa 0.002\n",
      "connecting 10 14 nmda 0.002\n",
      "connecting 10 14 clopath 0.002\n",
      "setting up recording vectors\n",
      "simulation finished\n",
      "trial_id:2020-04-15-18-44-43-485000-31603, duration:7.78200006485\n",
      "saving data\n"
     ]
    }
   ],
   "source": [
    "exp = run_control.exp_test_place_cells()\n",
    "exp.run()"
   ]
  },
  {
   "cell_type": "code",
   "execution_count": 25,
   "metadata": {
    "scrolled": true
   },
   "outputs": [
    {
     "data": {
      "text/plain": [
       "(-72, -50)"
      ]
     },
     "execution_count": 25,
     "metadata": {},
     "output_type": "execute_result"
    },
    {
     "data": {
      "image/png": "[encoded data removed]",
      "text/plain": [
       "<Figure size 432x288 with 1 Axes>"
      ]
     },
     "metadata": {
      "needs_background": "light"
     },
     "output_type": "display_data"
    }
   ],
   "source": [
    "plt.figure()\n",
    "plt.plot(functions._2array(exp.data.data_v).T)\n",
    "# plt.xlim([0,1000])\n",
    "plt.ylim([-72, -50])"
   ]
  },
  {
   "cell_type": "code",
   "execution_count": 23,
   "metadata": {},
   "outputs": [
    {
     "data": {
      "text/plain": [
       "[<matplotlib.lines.Line2D at 0x157e9b70>]"
      ]
     },
     "execution_count": 23,
     "metadata": {},
     "output_type": "execute_result"
    },
    {
     "data": {
      "image/png": "[encoded data removed]",
      "text/plain": [
       "<Figure size 432x288 with 1 Axes>"
      ]
     },
     "metadata": {
      "needs_background": "light"
     },
     "output_type": "display_data"
    }
   ],
   "source": [
    "plt.plot(exp.place_cell.r.T)\n",
    "plt.plot(exp.place_cell.theta_phase%2*np.pi, 'g')"
   ]
  },
  {
   "cell_type": "code",
   "execution_count": 24,
   "metadata": {},
   "outputs": [
    {
     "data": {
      "text/plain": [
       "[<matplotlib.lines.Line2D at 0x20070668>,\n",
       " <matplotlib.lines.Line2D at 0x20070710>,\n",
       " <matplotlib.lines.Line2D at 0x200707b8>,\n",
       " <matplotlib.lines.Line2D at 0x20070860>,\n",
       " <matplotlib.lines.Line2D at 0x20070908>,\n",
       " <matplotlib.lines.Line2D at 0x200709b0>,\n",
       " <matplotlib.lines.Line2D at 0x20070a58>,\n",
       " <matplotlib.lines.Line2D at 0x20070b00>,\n",
       " <matplotlib.lines.Line2D at 0x20070ba8>,\n",
       " <matplotlib.lines.Line2D at 0x20070c50>,\n",
       " <matplotlib.lines.Line2D at 0x20070cf8>,\n",
       " <matplotlib.lines.Line2D at 0x20070da0>,\n",
       " <matplotlib.lines.Line2D at 0x20070e48>,\n",
       " <matplotlib.lines.Line2D at 0x20070ef0>,\n",
       " <matplotlib.lines.Line2D at 0x20070f98>]"
      ]
     },
     "execution_count": 24,
     "metadata": {},
     "output_type": "execute_result"
    },
    {
     "data": {
      "image/png": "[encoded data removed]",
      "text/plain": [
       "<Figure size 432x288 with 1 Axes>"
      ]
     },
     "metadata": {
      "needs_background": "light"
     },
     "output_type": "display_data"
    }
   ],
   "source": [
    "plt.plot(exp.place_cell.input_array.T)"
   ]
  },
  {
   "cell_type": "code",
   "execution_count": 6,
   "metadata": {},
   "outputs": [
    {
     "data": {
      "text/plain": [
       "[<hoc.HocObject at 0x156c1db0>,\n",
       " <hoc.HocObject at 0x156c1d20>,\n",
       " <hoc.HocObject at 0x156c1d68>,\n",
       " <hoc.HocObject at 0x156c1df8>,\n",
       " <hoc.HocObject at 0x156c1e40>,\n",
       " <hoc.HocObject at 0x156c1e88>,\n",
       " <hoc.HocObject at 0x156c1ed0>,\n",
       " <hoc.HocObject at 0x156c1f18>,\n",
       " <hoc.HocObject at 0x156c1f60>,\n",
       " <hoc.HocObject at 0x156c8030>,\n",
       " <hoc.HocObject at 0x156c8078>,\n",
       " <hoc.HocObject at 0x156c80c0>,\n",
       " <hoc.HocObject at 0x156c8108>,\n",
       " <hoc.HocObject at 0x156c8150>,\n",
       " <hoc.HocObject at 0x156c8198>]"
      ]
     },
     "execution_count": 6,
     "metadata": {},
     "output_type": "execute_result"
    }
   ],
   "source": [
    "exp.place_cell.stim"
   ]
  },
  {
   "cell_type": "code",
   "execution_count": 7,
   "metadata": {},
   "outputs": [
    {
     "ename": "NameError",
     "evalue": "name 'r' is not defined",
     "output_type": "error",
     "traceback": [
      "\u001b[1;31m---------------------------------------------------------------------------\u001b[0m",
      "\u001b[1;31mNameError\u001b[0m                                 Traceback (most recent call last)",
      "\u001b[1;32m<ipython-input-7-8f678b39d3ce>\u001b[0m in \u001b[0;36m<module>\u001b[1;34m()\u001b[0m\n\u001b[0;32m      1\u001b[0m \u001b[0mplt\u001b[0m\u001b[1;33m.\u001b[0m\u001b[0mfigure\u001b[0m\u001b[1;33m(\u001b[0m\u001b[1;33m)\u001b[0m\u001b[1;33m\u001b[0m\u001b[0m\n\u001b[1;32m----> 2\u001b[1;33m \u001b[0mplt\u001b[0m\u001b[1;33m.\u001b[0m\u001b[0mplot\u001b[0m\u001b[1;33m(\u001b[0m\u001b[0mr\u001b[0m\u001b[1;33m.\u001b[0m\u001b[0mx\u001b[0m\u001b[1;33m.\u001b[0m\u001b[0mT\u001b[0m\u001b[1;33m,\u001b[0m \u001b[0mr\u001b[0m\u001b[1;33m.\u001b[0m\u001b[0mr_x\u001b[0m\u001b[1;33m.\u001b[0m\u001b[0mT\u001b[0m\u001b[1;33m)\u001b[0m\u001b[1;33m\u001b[0m\u001b[0m\n\u001b[0m",
      "\u001b[1;31mNameError\u001b[0m: name 'r' is not defined"
     ]
    },
    {
     "data": {
      "text/plain": [
       "<Figure size 432x288 with 0 Axes>"
      ]
     },
     "metadata": {},
     "output_type": "display_data"
    }
   ],
   "source": [
    "plt.figure()\n",
    "plt.plot(r.x.T, r.r_x.T)"
   ]
  },
  {
   "cell_type": "code",
   "execution_count": null,
   "metadata": {},
   "outputs": [],
   "source": [
    "r.spike_times"
   ]
  },
  {
   "cell_type": "code",
   "execution_count": 181,
   "metadata": {},
   "outputs": [],
   "source": [
    "# input_array = r._input_times_2array(r.spike_times, r.t)"
   ]
  },
  {
   "cell_type": "code",
   "execution_count": 10,
   "metadata": {},
   "outputs": [
    {
     "name": "stdout",
     "output_type": "stream",
     "text": [
      "[0, 1, 2, 3, 4, 5, 6, 7, 8, 9, 10]\n"
     ]
    }
   ],
   "source": [
    "print range(11)"
   ]
  },
  {
   "cell_type": "code",
   "execution_count": 184,
   "metadata": {},
   "outputs": [
    {
     "data": {
      "text/plain": [
       "[<matplotlib.lines.Line2D at 0x67af3b38>,\n",
       " <matplotlib.lines.Line2D at 0x67b02940>]"
      ]
     },
     "execution_count": 184,
     "metadata": {},
     "output_type": "execute_result"
    },
    {
     "data": {
      "image/png": "[encoded data removed]",
      "text/plain": [
       "<Figure size 432x288 with 1 Axes>"
      ]
     },
     "metadata": {
      "needs_background": "light"
     },
     "output_type": "display_data"
    }
   ],
   "source": [
    "plt.figure()\n",
    "scale = np.max(r.r)\n",
    "plt.plot(r.x.T, scale*r.input_array.T)\n",
    "plt.plot(r.x.T, r.r.T, 'k')\n",
    "plt.plot(r.x.T, (r.theta_phase%2*np.pi), 'g')\n",
    "# plt.xlim([100, 300])"
   ]
  },
  {
   "cell_type": "code",
   "execution_count": 185,
   "metadata": {},
   "outputs": [
    {
     "data": {
      "text/plain": [
       "[<matplotlib.lines.Line2D at 0x67e7c5c0>,\n",
       " <matplotlib.lines.Line2D at 0x67e7c668>]"
      ]
     },
     "execution_count": 185,
     "metadata": {},
     "output_type": "execute_result"
    },
    {
     "data": {
      "image/png": "[encoded data removed]",
      "text/plain": [
       "<Figure size 432x288 with 1 Axes>"
      ]
     },
     "metadata": {
      "needs_background": "light"
     },
     "output_type": "display_data"
    }
   ],
   "source": [
    "plt.figure()\n",
    "plt.plot(r.x.T, r.r.T, 'k')\n",
    "# plt.plot(r.x.T, r.r_phi.T, 'b')\n",
    "# plt.plot(r.x.T, r.r_x.T, 'r')\n",
    "# plt.plot(r.x.T, r.r_phi.T, '.')\n",
    "# plt.plot(r.x.T, r.phi.T, '.')\n",
    "# plt.plot(r.x.T, r.theta_phase, '.')\n",
    "# plt.ylim([-3,3])"
   ]
  },
  {
   "cell_type": "code",
   "execution_count": 186,
   "metadata": {},
   "outputs": [],
   "source": [
    "phase = np.linspace(0., 100., 1000) % np.pi"
   ]
  },
  {
   "cell_type": "code",
   "execution_count": 187,
   "metadata": {},
   "outputs": [
    {
     "data": {
      "text/plain": [
       "['Section',\n",
       " '__call__',\n",
       " '__class__',\n",
       " '__delattr__',\n",
       " '__delitem__',\n",
       " '__doc__',\n",
       " '__eq__',\n",
       " '__format__',\n",
       " '__ge__',\n",
       " '__getattribute__',\n",
       " '__getitem__',\n",
       " '__gt__',\n",
       " '__hash__',\n",
       " '__init__',\n",
       " '__iter__',\n",
       " '__le__',\n",
       " '__len__',\n",
       " '__lt__',\n",
       " '__ne__',\n",
       " '__new__',\n",
       " '__nonzero__',\n",
       " '__reduce__',\n",
       " '__reduce_ex__',\n",
       " '__repr__',\n",
       " '__setattr__',\n",
       " '__setitem__',\n",
       " '__setstate__',\n",
       " '__sizeof__',\n",
       " '__str__',\n",
       " '__subclasshook__',\n",
       " 'allsec',\n",
       " 'baseattr',\n",
       " 'cas',\n",
       " 'element',\n",
       " 'get_loc',\n",
       " 'has_loc',\n",
       " 'hname',\n",
       " 'hocobjptr',\n",
       " 'loc',\n",
       " 'next',\n",
       " 'play',\n",
       " 'ptr',\n",
       " 'ref',\n",
       " 'same',\n",
       " 'setpointer']"
      ]
     },
     "execution_count": 187,
     "metadata": {},
     "output_type": "execute_result"
    }
   ],
   "source": [
    "dir(r.stim[0])"
   ]
  },
  {
   "cell_type": "code",
   "execution_count": 188,
   "metadata": {},
   "outputs": [
    {
     "data": {
      "text/plain": [
       "[<matplotlib.lines.Line2D at 0x68092470>]"
      ]
     },
     "execution_count": 188,
     "metadata": {},
     "output_type": "execute_result"
    },
    {
     "data": {
      "image/png": "[encoded data removed]",
      "text/plain": [
       "<Figure size 432x288 with 1 Axes>"
      ]
     },
     "metadata": {
      "needs_background": "light"
     },
     "output_type": "display_data"
    }
   ],
   "source": [
    "plt.figure()\n",
    "plt.plot(phase)"
   ]
  },
  {
   "cell_type": "code",
   "execution_count": 115,
   "metadata": {},
   "outputs": [
    {
     "data": {
      "text/plain": [
       "0"
      ]
     },
     "execution_count": 115,
     "metadata": {},
     "output_type": "execute_result"
    }
   ],
   "source": [
    "np.ndim(np.array(0))"
   ]
  },
  {
   "cell_type": "code",
   "execution_count": null,
   "metadata": {},
   "outputs": [],
   "source": []
  }
 ],
 "metadata": {
  "kernelspec": {
   "display_name": "Python 2",
   "language": "python",
   "name": "python2"
  },
  "language_info": {
   "codemirror_mode": {
    "name": "ipython",
    "version": 2
   },
   "file_extension": ".py",
   "mimetype": "text/x-python",
   "name": "python",
   "nbconvert_exporter": "python",
   "pygments_lexer": "ipython2",
   "version": "2.7.16"
  }
 },
 "nbformat": 4,
 "nbformat_minor": 2
}
