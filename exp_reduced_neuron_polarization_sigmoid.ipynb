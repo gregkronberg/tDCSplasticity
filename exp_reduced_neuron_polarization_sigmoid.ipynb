{
 "cells": [
  {
   "cell_type": "code",
   "execution_count": 179,
   "metadata": {},
   "outputs": [
    {
     "data": {
      "text/plain": [
       "<module 'analyze_exp' from 'analyze_exp.pyc'>"
      ]
     },
     "execution_count": 179,
     "metadata": {},
     "output_type": "execute_result"
    }
   ],
   "source": [
    "import neurons\n",
    "import functions\n",
    "import matplotlib.pyplot as plt\n",
    "import stims\n",
    "import run_control\n",
    "import numpy as np\n",
    "import param\n",
    "import analyze_exp\n",
    "reload(stims)\n",
    "reload(functions)\n",
    "reload(neurons.neuron_reduce.reducing_methods)\n",
    "reload(neurons.neuron_reduce.subtree_reductor_func)\n",
    "reload(param)\n",
    "reload(neurons)\n",
    "reload(functions)\n",
    "reload(run_control)\n",
    "reload(analyze_exp)"
   ]
  },
  {
   "cell_type": "code",
   "execution_count": 180,
   "metadata": {},
   "outputs": [],
   "source": [
    "exp = run_control.exp_reduced_neuron_polarization_sigmoid()"
   ]
  },
  {
   "cell_type": "code",
   "execution_count": 181,
   "metadata": {},
   "outputs": [
    {
     "name": "stdout",
     "output_type": "stream",
     "text": [
      "loading cell geometry: CellMigliore2005Reduced\n",
      "loading cell range mechanisms\n",
      "inserting synapses\n",
      "creating morpho object\n",
      "WARNING The template 'model' is already defined... not loading.\n",
      "inserting synapses\n",
      "creating morpho object\n",
      "setting up recording vectors\n",
      "simulation finished\n",
      "trial_id:2020-04-04-21-48-17-977000-39987, duration:0.665999889374\n",
      "saving data\n",
      "setting up recording vectors\n",
      "simulation finished\n",
      "trial_id:2020-04-04-21-48-19-85000-81107, duration:0.599999904633\n",
      "saving data\n",
      "setting up recording vectors\n",
      "simulation finished\n",
      "trial_id:2020-04-04-21-48-20-152000-68147, duration:0.592000007629\n",
      "saving data\n",
      "files []\n",
      "no group data found\n",
      "search_string data\n",
      "total data files: 3\n",
      "new data files: 3\n",
      "updating group data structure\n",
      "iter files: 3\n",
      "processing file 0\n",
      "new file found: 2020-04-04-21-48-17-977000-39987\n",
      "processing file 1\n",
      "new file found: 2020-04-04-21-48-19-85000-81107\n",
      "processing file 2\n",
      "new file found: 2020-04-04-21-48-20-152000-68147\n",
      "saving updated group df\n",
      "file size 303774\n",
      "total size 303774\n",
      "splitting group df\n",
      "applying df function: _get_polarization\n",
      "processing all rows\n",
      "saving updated group df\n",
      "file size 302910\n",
      "total size 302910\n",
      "splitting group df\n"
     ]
    }
   ],
   "source": [
    "exp.run()"
   ]
  },
  {
   "cell_type": "code",
   "execution_count": 182,
   "metadata": {},
   "outputs": [
    {
     "name": "stdout",
     "output_type": "stream",
     "text": [
      "-158.262629509\n",
      "12.758417799728118\n",
      "904.753189087\n",
      "24.651342245600233\n",
      "3.74550008774\n",
      "13.783454255600615\n",
      "411.251449585\n",
      "18.722509032434594\n",
      "1562.75550842\n",
      "31.91594787388268\n",
      "-57.7482099533\n",
      "13.216020872829326\n",
      "1069.25376892\n",
      "26.53007260091\n",
      "575.752029419\n",
      "20.74966567659632\n",
      "1727.25608826\n",
      "33.639881216365566\n",
      "-80.1605431239\n",
      "12.962625712030222\n",
      "1233.75434875\n",
      "28.364719293981796\n",
      "-225.499629021\n",
      "12.286343505114763\n",
      "82.250289917\n",
      "14.513248717965553\n",
      "-258.777049065\n",
      "12.287959801656552\n",
      "740.252609253\n",
      "22.72538665617657\n",
      "-370.838714918\n",
      "11.587250127852307\n",
      "246.750869751\n",
      "16.64339999543035\n",
      "1398.25492859\n",
      "30.158787433579135\n"
     ]
    },
    {
     "data": {
      "image/png": "[encoded data removed]",
      "text/plain": [
       "<Figure size 432x288 with 1 Axes>"
      ]
     },
     "metadata": {
      "needs_background": "light"
     },
     "output_type": "display_data"
    }
   ],
   "source": [
    "exp.dcs.e_map\n",
    "_df = functions._set_index(exp.data, ['location'])\n",
    "# _df.index\n",
    "plt.figure()\n",
    "dists=[]\n",
    "e = []\n",
    "for loc in exp.dcs.e_map:\n",
    "    seg_dist = _df.loc[[loc]].seg_dist.values[0]\n",
    "    if 'dend' in loc:\n",
    "        seg_dist*=-1\n",
    "    dists.append(seg_dist)\n",
    "    e.append(exp.dcs.e_map[loc])\n",
    "    print seg_dist\n",
    "    print exp.dcs.e_map[loc]\n",
    "plt.plot(dists, e, '.')\n",
    "plt.axes().set_aspect(500)"
   ]
  },
  {
   "cell_type": "code",
   "execution_count": 183,
   "metadata": {},
   "outputs": [
    {
     "name": "stderr",
     "output_type": "stream",
     "text": [
      "F:\\Anaconda2\\lib\\site-packages\\ipykernel_launcher.py:2: PerformanceWarning: indexing past lexsort depth may impact performance.\n",
      "  \n"
     ]
    },
    {
     "data": {
      "text/plain": [
       "field  tree_key\n",
       "20     soma        0.719627\n",
       "Name: polarization, dtype: float64"
      ]
     },
     "execution_count": 183,
     "metadata": {},
     "output_type": "execute_result"
    }
   ],
   "source": [
    "df = functions._set_index(exp.vtrace_df, ['field','tree_key',])\n",
    "df.loc[(20,'soma')].polarization"
   ]
  },
  {
   "cell_type": "code",
   "execution_count": 187,
   "metadata": {},
   "outputs": [
    {
     "name": "stderr",
     "output_type": "stream",
     "text": [
      "F:\\Anaconda2\\lib\\site-packages\\ipykernel_launcher.py:1: PerformanceWarning: indexing past lexsort depth may impact performance.\n",
      "  \"\"\"Entry point for launching an IPython kernel.\n",
      "F:\\Anaconda2\\lib\\site-packages\\ipykernel_launcher.py:2: PerformanceWarning: indexing past lexsort depth may impact performance.\n",
      "  \n",
      "F:\\Anaconda2\\lib\\site-packages\\ipykernel_launcher.py:3: PerformanceWarning: indexing past lexsort depth may impact performance.\n",
      "  This is separate from the ipykernel package so we can avoid doing imports until\n",
      "F:\\Anaconda2\\lib\\site-packages\\ipykernel_launcher.py:4: PerformanceWarning: indexing past lexsort depth may impact performance.\n",
      "  after removing the cwd from sys.path.\n",
      "F:\\Anaconda2\\lib\\site-packages\\ipykernel_launcher.py:5: PerformanceWarning: indexing past lexsort depth may impact performance.\n",
      "  \"\"\"\n",
      "F:\\Anaconda2\\lib\\site-packages\\ipykernel_launcher.py:6: PerformanceWarning: indexing past lexsort depth may impact performance.\n",
      "  \n"
     ]
    },
    {
     "data": {
      "text/plain": [
       "[<matplotlib.lines.Line2D at 0x23817be0>]"
      ]
     },
     "execution_count": 187,
     "metadata": {},
     "output_type": "execute_result"
    },
    {
     "data": {
      "image/png": "[encoded data removed]",
      "text/plain": [
       "<Figure size 432x288 with 1 Axes>"
      ]
     },
     "metadata": {
      "needs_background": "light"
     },
     "output_type": "display_data"
    }
   ],
   "source": [
    "seg_dist_dend = -1.*df.loc[(20, 'dend')].seg_dist.values\n",
    "seg_dist_apic = df.loc[(20, 'apic')].seg_dist.values\n",
    "seg_dist_soma = df.loc[(20, 'soma')].seg_dist\n",
    "polarization_dend = df.loc[(20, 'dend')].polarization.values\n",
    "polarization_apic = df.loc[(20, 'apic')].polarization.values\n",
    "polarization_soma = df.loc[(20, 'soma')].polarization\n",
    "plt.figure()\n",
    "plt.plot(seg_dist_apic, polarization_apic,'.')\n",
    "plt.plot(seg_dist_dend, polarization_dend,'.')\n",
    "plt.plot(seg_dist_soma, polarization_soma,'.k')"
   ]
  },
  {
   "cell_type": "code",
   "execution_count": 185,
   "metadata": {},
   "outputs": [
    {
     "name": "stderr",
     "output_type": "stream",
     "text": [
      "F:\\Anaconda2\\lib\\site-packages\\ipykernel_launcher.py:1: PerformanceWarning: indexing past lexsort depth may impact performance.\n",
      "  \"\"\"Entry point for launching an IPython kernel.\n",
      "F:\\Anaconda2\\lib\\site-packages\\ipykernel_launcher.py:2: PerformanceWarning: indexing past lexsort depth may impact performance.\n",
      "  \n",
      "F:\\Anaconda2\\lib\\site-packages\\ipykernel_launcher.py:3: PerformanceWarning: indexing past lexsort depth may impact performance.\n",
      "  This is separate from the ipykernel package so we can avoid doing imports until\n",
      "F:\\Anaconda2\\lib\\site-packages\\ipykernel_launcher.py:4: PerformanceWarning: indexing past lexsort depth may impact performance.\n",
      "  after removing the cwd from sys.path.\n",
      "F:\\Anaconda2\\lib\\site-packages\\ipykernel_launcher.py:5: PerformanceWarning: indexing past lexsort depth may impact performance.\n",
      "  \"\"\"\n",
      "F:\\Anaconda2\\lib\\site-packages\\ipykernel_launcher.py:6: PerformanceWarning: indexing past lexsort depth may impact performance.\n",
      "  \n"
     ]
    },
    {
     "data": {
      "text/plain": [
       "[<matplotlib.lines.Line2D at 0x239f4da0>]"
      ]
     },
     "execution_count": 185,
     "metadata": {},
     "output_type": "execute_result"
    },
    {
     "data": {
      "image/png": "[encoded data removed]",
      "text/plain": [
       "<Figure size 432x288 with 1 Axes>"
      ]
     },
     "metadata": {
      "needs_background": "light"
     },
     "output_type": "display_data"
    }
   ],
   "source": [
    "seg_dist_dend = -1.*df.loc[(20, 'dend')].seg_dist.values\n",
    "seg_dist_apic = df.loc[(20, 'apic')].seg_dist.values\n",
    "seg_dist_soma = df.loc[(20, 'soma')].seg_dist\n",
    "polarization_dend = df.loc[(20, 'dend')].polarization.values\n",
    "polarization_apic = df.loc[(20, 'apic')].polarization.values\n",
    "polarization_soma = df.loc[(20, 'soma')].polarization\n",
    "plt.figure()\n",
    "plt.plot(seg_dist_apic, polarization_apic)\n",
    "plt.plot(seg_dist_dend, polarization_dend)\n",
    "plt.plot(seg_dist_soma, polarization_soma,'.k')"
   ]
  },
  {
   "cell_type": "code",
   "execution_count": 186,
   "metadata": {},
   "outputs": [
    {
     "name": "stderr",
     "output_type": "stream",
     "text": [
      "F:\\Anaconda2\\lib\\site-packages\\ipykernel_launcher.py:1: PerformanceWarning: indexing past lexsort depth may impact performance.\n",
      "  \"\"\"Entry point for launching an IPython kernel.\n",
      "F:\\Anaconda2\\lib\\site-packages\\ipykernel_launcher.py:2: PerformanceWarning: indexing past lexsort depth may impact performance.\n",
      "  \n",
      "F:\\Anaconda2\\lib\\site-packages\\ipykernel_launcher.py:3: PerformanceWarning: indexing past lexsort depth may impact performance.\n",
      "  This is separate from the ipykernel package so we can avoid doing imports until\n",
      "F:\\Anaconda2\\lib\\site-packages\\ipykernel_launcher.py:4: PerformanceWarning: indexing past lexsort depth may impact performance.\n",
      "  after removing the cwd from sys.path.\n",
      "F:\\Anaconda2\\lib\\site-packages\\ipykernel_launcher.py:5: PerformanceWarning: indexing past lexsort depth may impact performance.\n",
      "  \"\"\"\n",
      "F:\\Anaconda2\\lib\\site-packages\\ipykernel_launcher.py:6: PerformanceWarning: indexing past lexsort depth may impact performance.\n",
      "  \n"
     ]
    },
    {
     "data": {
      "text/plain": [
       "[<matplotlib.lines.Line2D at 0x23c9c048>]"
      ]
     },
     "execution_count": 186,
     "metadata": {},
     "output_type": "execute_result"
    },
    {
     "data": {
      "image/png": "[encoded data removed]",
      "text/plain": [
       "<Figure size 432x288 with 1 Axes>"
      ]
     },
     "metadata": {
      "needs_background": "light"
     },
     "output_type": "display_data"
    }
   ],
   "source": [
    "seg_dist_dend = -1.*df.loc[(20, 'dend')].seg_dist.values\n",
    "seg_dist_apic = df.loc[(20, 'apic')].seg_dist.values\n",
    "seg_dist_soma = df.loc[(20, 'soma')].seg_dist\n",
    "polarization_dend = df.loc[(20, 'dend')].polarization.values\n",
    "polarization_apic = df.loc[(20, 'apic')].polarization.values\n",
    "polarization_soma = df.loc[(20, 'soma')].polarization\n",
    "plt.figure()\n",
    "plt.plot(seg_dist_apic, polarization_apic)\n",
    "plt.plot(seg_dist_dend, polarization_dend)\n",
    "plt.plot(seg_dist_soma, polarization_soma,'.k')"
   ]
  },
  {
   "cell_type": "code",
   "execution_count": null,
   "metadata": {},
   "outputs": [],
   "source": []
  }
 ],
 "metadata": {
  "kernelspec": {
   "display_name": "Python 2",
   "language": "python",
   "name": "python2"
  },
  "language_info": {
   "codemirror_mode": {
    "name": "ipython",
    "version": 2
   },
   "file_extension": ".py",
   "mimetype": "text/x-python",
   "name": "python",
   "nbconvert_exporter": "python",
   "pygments_lexer": "ipython2",
   "version": "2.7.16"
  }
 },
 "nbformat": 4,
 "nbformat_minor": 2
}
