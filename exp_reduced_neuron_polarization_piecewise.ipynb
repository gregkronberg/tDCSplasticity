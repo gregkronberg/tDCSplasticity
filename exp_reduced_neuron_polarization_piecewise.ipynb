{
 "cells": [
  {
   "cell_type": "code",
   "execution_count": 902,
   "metadata": {},
   "outputs": [
    {
     "data": {
      "text/plain": [
       "<module 'analyze_exp' from 'analyze_exp.py'>"
      ]
     },
     "execution_count": 902,
     "metadata": {},
     "output_type": "execute_result"
    }
   ],
   "source": [
    "import neurons\n",
    "import functions\n",
    "import matplotlib.pyplot as plt\n",
    "import stims\n",
    "import run_control\n",
    "import numpy as np\n",
    "import param\n",
    "import analyze_exp\n",
    "reload(stims)\n",
    "reload(functions)\n",
    "reload(neurons.neuron_reduce.reducing_methods)\n",
    "reload(neurons.neuron_reduce.subtree_reductor_func)\n",
    "reload(param)\n",
    "reload(neurons)\n",
    "reload(functions)\n",
    "reload(run_control)\n",
    "reload(analyze_exp)"
   ]
  },
  {
   "cell_type": "code",
   "execution_count": 903,
   "metadata": {},
   "outputs": [],
   "source": [
    "exp = run_control.exp_reduced_neuron_polarization_piecewise()"
   ]
  },
  {
   "cell_type": "code",
   "execution_count": 904,
   "metadata": {},
   "outputs": [
    {
     "name": "stdout",
     "output_type": "stream",
     "text": [
      "files ['Data/exp_reduced_neuron_polarization_piecewise\\\\vtrace_df_0.pkl', 'Data/exp_reduced_neuron_polarization_piecewise\\\\vtrace_df_1.pkl', 'Data/exp_reduced_neuron_polarization_piecewise\\\\vtrace_df_2.pkl', 'Data/exp_reduced_neuron_polarization_piecewise\\\\vtrace_df_3.pkl', 'Data/exp_reduced_neuron_polarization_piecewise\\\\vtrace_df_4.pkl', 'Data/exp_reduced_neuron_polarization_piecewise\\\\vtrace_df_5.pkl', 'Data/exp_reduced_neuron_polarization_piecewise\\\\vtrace_df_6.pkl', 'Data/exp_reduced_neuron_polarization_piecewise\\\\vtrace_df_7.pkl', 'Data/exp_reduced_neuron_polarization_piecewise\\\\vtrace_df_8.pkl', 'Data/exp_reduced_neuron_polarization_piecewise\\\\vtrace_df_9.pkl']\n",
      "10 variable files found\n",
      "group data loaded Data/exp_reduced_neuron_polarization_piecewise\\vtrace_df_0.pkl\n",
      "group data loaded Data/exp_reduced_neuron_polarization_piecewise\\vtrace_df_1.pkl\n",
      "group data loaded Data/exp_reduced_neuron_polarization_piecewise\\vtrace_df_2.pkl\n",
      "group data loaded Data/exp_reduced_neuron_polarization_piecewise\\vtrace_df_3.pkl\n",
      "group data loaded Data/exp_reduced_neuron_polarization_piecewise\\vtrace_df_4.pkl\n",
      "group data loaded Data/exp_reduced_neuron_polarization_piecewise\\vtrace_df_5.pkl\n",
      "group data loaded Data/exp_reduced_neuron_polarization_piecewise\\vtrace_df_6.pkl\n",
      "group data loaded Data/exp_reduced_neuron_polarization_piecewise\\vtrace_df_7.pkl\n",
      "group data loaded Data/exp_reduced_neuron_polarization_piecewise\\vtrace_df_8.pkl\n",
      "group data loaded Data/exp_reduced_neuron_polarization_piecewise\\vtrace_df_9.pkl\n",
      "search_string data\n",
      "total data files: 3\n",
      "new data files: 0\n",
      "updating group data structure\n",
      "iter files: 0\n",
      "saving updated group df\n",
      "file size 312864\n",
      "total size 312864\n",
      "splitting group df\n",
      "chunk  0 , size:  (6, 142)\n",
      "chunk  1 , size:  (6, 142)\n",
      "chunk  2 , size:  (6, 142)\n",
      "chunk  3 , size:  (6, 142)\n",
      "chunk  4 , size:  (5, 142)\n",
      "chunk  5 , size:  (5, 142)\n",
      "chunk  6 , size:  (5, 142)\n",
      "chunk  7 , size:  (5, 142)\n",
      "chunk  8 , size:  (5, 142)\n",
      "chunk  9 , size:  (5, 142)\n",
      "applying df function: _get_polarization\n",
      "saving updated group df\n",
      "file size 312864\n",
      "total size 312864\n",
      "splitting group df\n",
      "chunk  0 , size:  (6, 142)\n",
      "chunk  1 , size:  (6, 142)\n",
      "chunk  2 , size:  (6, 142)\n",
      "chunk  3 , size:  (6, 142)\n",
      "chunk  4 , size:  (5, 142)\n",
      "chunk  5 , size:  (5, 142)\n",
      "chunk  6 , size:  (5, 142)\n",
      "chunk  7 , size:  (5, 142)\n",
      "chunk  8 , size:  (5, 142)\n",
      "chunk  9 , size:  (5, 142)\n"
     ]
    }
   ],
   "source": [
    "exp.generate_group_variables()"
   ]
  },
  {
   "cell_type": "code",
   "execution_count": 929,
   "metadata": {},
   "outputs": [
    {
     "name": "stdout",
     "output_type": "stream",
     "text": [
      "files ['Data/exp_reduced_neuron_polarization_piecewise\\\\vtrace_df_0.pkl', 'Data/exp_reduced_neuron_polarization_piecewise\\\\vtrace_df_1.pkl', 'Data/exp_reduced_neuron_polarization_piecewise\\\\vtrace_df_2.pkl', 'Data/exp_reduced_neuron_polarization_piecewise\\\\vtrace_df_3.pkl', 'Data/exp_reduced_neuron_polarization_piecewise\\\\vtrace_df_4.pkl', 'Data/exp_reduced_neuron_polarization_piecewise\\\\vtrace_df_5.pkl', 'Data/exp_reduced_neuron_polarization_piecewise\\\\vtrace_df_6.pkl', 'Data/exp_reduced_neuron_polarization_piecewise\\\\vtrace_df_7.pkl', 'Data/exp_reduced_neuron_polarization_piecewise\\\\vtrace_df_8.pkl', 'Data/exp_reduced_neuron_polarization_piecewise\\\\vtrace_df_9.pkl']\n",
      "10 variable files found\n",
      "group data loaded Data/exp_reduced_neuron_polarization_piecewise\\vtrace_df_0.pkl\n",
      "group data loaded Data/exp_reduced_neuron_polarization_piecewise\\vtrace_df_1.pkl\n",
      "group data loaded Data/exp_reduced_neuron_polarization_piecewise\\vtrace_df_2.pkl\n",
      "group data loaded Data/exp_reduced_neuron_polarization_piecewise\\vtrace_df_3.pkl\n",
      "group data loaded Data/exp_reduced_neuron_polarization_piecewise\\vtrace_df_4.pkl\n",
      "group data loaded Data/exp_reduced_neuron_polarization_piecewise\\vtrace_df_5.pkl\n",
      "group data loaded Data/exp_reduced_neuron_polarization_piecewise\\vtrace_df_6.pkl\n",
      "group data loaded Data/exp_reduced_neuron_polarization_piecewise\\vtrace_df_7.pkl\n",
      "group data loaded Data/exp_reduced_neuron_polarization_piecewise\\vtrace_df_8.pkl\n",
      "group data loaded Data/exp_reduced_neuron_polarization_piecewise\\vtrace_df_9.pkl\n",
      "building figdf: _define_figdict\n",
      "plotting: _shapeplot\n"
     ]
    },
    {
     "data": {
      "image/png": "[encoded data removed]",
      "text/plain": [
       "<Figure size 432x288 with 2 Axes>"
      ]
     },
     "metadata": {
      "needs_background": "light"
     },
     "output_type": "display_data"
    },
    {
     "data": {
      "image/png": "[encoded data removed]",
      "text/plain": [
       "<Figure size 432x288 with 2 Axes>"
      ]
     },
     "metadata": {
      "needs_background": "light"
     },
     "output_type": "display_data"
    }
   ],
   "source": [
    "import analyze_exp\n",
    "import figsetup\n",
    "reload(functions)\n",
    "reload(figsetup)\n",
    "reload(analyze_exp)\n",
    "ae = analyze_exp.analysis_exp_reduced_neuron_polarization_piecewise(generate_figures=True)"
   ]
  },
  {
   "cell_type": "code",
   "execution_count": 898,
   "metadata": {},
   "outputs": [
    {
     "data": {
      "text/plain": [
       "field  tree_key\n",
       "-5     soma       -0.780578\n",
       " 5     soma        0.810722\n",
       "Name: polarization, dtype: float64"
      ]
     },
     "execution_count": 898,
     "metadata": {},
     "output_type": "execute_result"
    }
   ],
   "source": [
    "df = functions._set_index(exp.vtrace_df, ['field','tree_key',])\n",
    "df.loc[((5,-5),'soma'),:].polarization"
   ]
  },
  {
   "cell_type": "code",
   "execution_count": 899,
   "metadata": {},
   "outputs": [
    {
     "name": "stderr",
     "output_type": "stream",
     "text": [
      "F:\\Anaconda2\\lib\\site-packages\\ipykernel_launcher.py:1: PerformanceWarning: indexing past lexsort depth may impact performance.\n",
      "  \"\"\"Entry point for launching an IPython kernel.\n",
      "F:\\Anaconda2\\lib\\site-packages\\ipykernel_launcher.py:2: PerformanceWarning: indexing past lexsort depth may impact performance.\n",
      "  \n",
      "F:\\Anaconda2\\lib\\site-packages\\ipykernel_launcher.py:3: PerformanceWarning: indexing past lexsort depth may impact performance.\n",
      "  This is separate from the ipykernel package so we can avoid doing imports until\n",
      "F:\\Anaconda2\\lib\\site-packages\\ipykernel_launcher.py:4: PerformanceWarning: indexing past lexsort depth may impact performance.\n",
      "  after removing the cwd from sys.path.\n",
      "F:\\Anaconda2\\lib\\site-packages\\ipykernel_launcher.py:5: PerformanceWarning: indexing past lexsort depth may impact performance.\n",
      "  \"\"\"\n",
      "F:\\Anaconda2\\lib\\site-packages\\ipykernel_launcher.py:6: PerformanceWarning: indexing past lexsort depth may impact performance.\n",
      "  \n",
      "F:\\Anaconda2\\lib\\site-packages\\ipykernel_launcher.py:12: PerformanceWarning: indexing past lexsort depth may impact performance.\n",
      "  if sys.path[0] == '':\n",
      "F:\\Anaconda2\\lib\\site-packages\\ipykernel_launcher.py:13: PerformanceWarning: indexing past lexsort depth may impact performance.\n",
      "  del sys.path[0]\n",
      "F:\\Anaconda2\\lib\\site-packages\\ipykernel_launcher.py:14: PerformanceWarning: indexing past lexsort depth may impact performance.\n",
      "  \n",
      "F:\\Anaconda2\\lib\\site-packages\\ipykernel_launcher.py:15: PerformanceWarning: indexing past lexsort depth may impact performance.\n",
      "  from ipykernel import kernelapp as app\n",
      "F:\\Anaconda2\\lib\\site-packages\\ipykernel_launcher.py:16: PerformanceWarning: indexing past lexsort depth may impact performance.\n",
      "  app.launch_new_instance()\n",
      "F:\\Anaconda2\\lib\\site-packages\\ipykernel_launcher.py:17: PerformanceWarning: indexing past lexsort depth may impact performance.\n"
     ]
    },
    {
     "data": {
      "text/plain": [
       "[<matplotlib.lines.Line2D at 0x41798eb8>]"
      ]
     },
     "execution_count": 899,
     "metadata": {},
     "output_type": "execute_result"
    },
    {
     "data": {
      "image/png": "[encoded data removed]",
      "text/plain": [
       "<Figure size 432x288 with 1 Axes>"
      ]
     },
     "metadata": {
      "needs_background": "light"
     },
     "output_type": "display_data"
    },
    {
     "data": {
      "image/png": "[encoded data removed]",
      "text/plain": [
       "<Figure size 432x288 with 1 Axes>"
      ]
     },
     "metadata": {
      "needs_background": "light"
     },
     "output_type": "display_data"
    }
   ],
   "source": [
    "seg_dist_dend = -1.*df.loc[(-5, 'dend')].seg_dist.values\n",
    "seg_dist_apic = df.loc[(-5, 'apic')].seg_dist.values\n",
    "seg_dist_soma = df.loc[(-5, 'soma')].seg_dist\n",
    "polarization_dend = df.loc[(-5, 'dend')].polarization.values\n",
    "polarization_apic = df.loc[(-5, 'apic')].polarization.values\n",
    "polarization_soma = df.loc[(-5, 'soma')].polarization\n",
    "plt.figure()\n",
    "plt.plot(seg_dist_apic, polarization_apic,'.')\n",
    "plt.plot(seg_dist_dend, polarization_dend,'.')\n",
    "plt.plot(seg_dist_soma, polarization_soma,'.k')\n",
    "\n",
    "seg_dist_dend = -1.*df.loc[(5, 'dend')].seg_dist.values\n",
    "seg_dist_apic = df.loc[(5, 'apic')].seg_dist.values\n",
    "seg_dist_soma = df.loc[(5, 'soma')].seg_dist\n",
    "polarization_dend = df.loc[(5, 'dend')].polarization.values\n",
    "polarization_apic = df.loc[(5, 'apic')].polarization.values\n",
    "polarization_soma = df.loc[(5, 'soma')].polarization\n",
    "plt.figure()\n",
    "plt.plot(seg_dist_apic, polarization_apic,'.')\n",
    "plt.plot(seg_dist_dend, polarization_dend,'.')\n",
    "plt.plot(seg_dist_soma, polarization_soma,'.k')"
   ]
  },
  {
   "cell_type": "code",
   "execution_count": 900,
   "metadata": {},
   "outputs": [
    {
     "data": {
      "text/plain": [
       "field  tree_key\n",
       "-5     soma       -0.780578\n",
       " 0     soma       -0.047886\n",
       " 5     soma        0.810722\n",
       "Name: polarization, dtype: float64"
      ]
     },
     "execution_count": 900,
     "metadata": {},
     "output_type": "execute_result"
    }
   ],
   "source": [
    "df.loc[((-5,0,5), ('soma')),:].polarization"
   ]
  },
  {
   "cell_type": "code",
   "execution_count": 901,
   "metadata": {},
   "outputs": [
    {
     "data": {
      "text/plain": [
       "field  tree_key\n",
       "-5     apic        0.596745\n",
       "       apic        0.514036\n",
       "       apic        0.463343\n",
       "       apic        0.446118\n",
       "       apic        0.467337\n",
       "       apic        0.531769\n",
       "       apic        0.647680\n",
       "       apic        0.400916\n",
       "       apic        1.114529\n",
       "       apic        1.939327\n",
       "       apic        2.958069\n",
       " 0     apic       -0.045047\n",
       "       apic       -0.037527\n",
       "       apic       -0.029366\n",
       "       apic       -0.021074\n",
       "       apic       -0.012911\n",
       "       apic       -0.005323\n",
       "       apic        0.001326\n",
       "       apic        0.006784\n",
       "       apic        0.010926\n",
       "       apic        0.013701\n",
       "       apic        0.015090\n",
       " 5     apic       -0.572739\n",
       "       apic       -0.493449\n",
       "       apic       -0.440759\n",
       "       apic       -0.417126\n",
       "       apic       -0.428027\n",
       "       apic       -0.479293\n",
       "       apic       -0.580032\n",
       "       apic       -0.316683\n",
       "       apic       -1.011606\n",
       "       apic       -1.817501\n",
       "       apic       -2.821781\n",
       "Name: polarization, dtype: float64"
      ]
     },
     "execution_count": 901,
     "metadata": {},
     "output_type": "execute_result"
    }
   ],
   "source": [
    "df.loc[((-5,0,5), ('apic')),:].polarization"
   ]
  },
  {
   "cell_type": "code",
   "execution_count": 913,
   "metadata": {},
   "outputs": [
    {
     "data": {
      "text/plain": [
       "matplotlib.colors.ListedColormap"
      ]
     },
     "execution_count": 913,
     "metadata": {},
     "output_type": "execute_result"
    }
   ],
   "source": [
    "import matplotlib.colors as mcolors\n",
    "mcolors.ListedColormap"
   ]
  },
  {
   "cell_type": "code",
   "execution_count": 910,
   "metadata": {},
   "outputs": [
    {
     "ename": "AttributeError",
     "evalue": "'module' object has no attribute 'DivergingNorm'",
     "output_type": "error",
     "traceback": [
      "\u001b[1;31m---------------------------------------------------------------------------\u001b[0m",
      "\u001b[1;31mAttributeError\u001b[0m                            Traceback (most recent call last)",
      "\u001b[1;32m<ipython-input-910-b2df5d321297>\u001b[0m in \u001b[0;36m<module>\u001b[1;34m()\u001b[0m\n\u001b[1;32m----> 1\u001b[1;33m \u001b[0mmcolors\u001b[0m\u001b[1;33m.\u001b[0m\u001b[0mDivergingNorm\u001b[0m\u001b[1;33m\u001b[0m\u001b[0m\n\u001b[0m",
      "\u001b[1;31mAttributeError\u001b[0m: 'module' object has no attribute 'DivergingNorm'"
     ]
    }
   ],
   "source": [
    "mcolors.DivergingNorm"
   ]
  },
  {
   "cell_type": "code",
   "execution_count": null,
   "metadata": {},
   "outputs": [],
   "source": []
  }
 ],
 "metadata": {
  "kernelspec": {
   "display_name": "Python 2",
   "language": "python",
   "name": "python2"
  },
  "language_info": {
   "codemirror_mode": {
    "name": "ipython",
    "version": 2
   },
   "file_extension": ".py",
   "mimetype": "text/x-python",
   "name": "python",
   "nbconvert_exporter": "python",
   "pygments_lexer": "ipython2",
   "version": "2.7.16"
  }
 },
 "nbformat": 4,
 "nbformat_minor": 2
}
