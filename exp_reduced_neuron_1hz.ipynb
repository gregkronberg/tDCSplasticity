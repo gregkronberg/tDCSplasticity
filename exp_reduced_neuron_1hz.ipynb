{
 "cells": [
  {
   "cell_type": "code",
   "execution_count": 1,
   "metadata": {},
   "outputs": [
    {
     "data": {
      "text/plain": [
       "<module 'run_control' from 'run_control.pyc'>"
      ]
     },
     "execution_count": 1,
     "metadata": {},
     "output_type": "execute_result"
    }
   ],
   "source": [
    "import neurons\n",
    "import functions\n",
    "import matplotlib.pyplot as plt\n",
    "import stims\n",
    "import run_control\n",
    "import numpy as np\n",
    "import param\n",
    "import analyze_exp\n",
    "reload(param)\n",
    "reload(run_control.neuron)\n",
    "reload(functions)\n",
    "reload(neurons.neuron_reduce.reducing_methods)\n",
    "reload(neurons.neuron_reduce.subtree_reductor_func)\n",
    "reload(neurons)\n",
    "reload(functions)\n",
    "reload(stims)\n",
    "reload(analyze_exp)\n",
    "reload(run_control)"
   ]
  },
  {
   "cell_type": "code",
   "execution_count": 2,
   "metadata": {},
   "outputs": [],
   "source": [
    "exp = run_control.exp_reduced_neuron_1hz()"
   ]
  },
  {
   "cell_type": "code",
   "execution_count": 3,
   "metadata": {},
   "outputs": [],
   "source": [
    "# exp.run(trials=1, w_means=[.006])"
   ]
  },
  {
   "cell_type": "code",
   "execution_count": 4,
   "metadata": {},
   "outputs": [
    {
     "name": "stdout",
     "output_type": "stream",
     "text": [
      "files ['Data/exp_reduced_neuron_1hz\\\\vtrace_df_0.pkl', 'Data/exp_reduced_neuron_1hz\\\\vtrace_df_1.pkl', 'Data/exp_reduced_neuron_1hz\\\\vtrace_df_2.pkl', 'Data/exp_reduced_neuron_1hz\\\\vtrace_df_3.pkl', 'Data/exp_reduced_neuron_1hz\\\\vtrace_df_4.pkl', 'Data/exp_reduced_neuron_1hz\\\\vtrace_df_5.pkl', 'Data/exp_reduced_neuron_1hz\\\\vtrace_df_6.pkl', 'Data/exp_reduced_neuron_1hz\\\\vtrace_df_7.pkl', 'Data/exp_reduced_neuron_1hz\\\\vtrace_df_8.pkl', 'Data/exp_reduced_neuron_1hz\\\\vtrace_df_9.pkl']\n",
      "10 variable files found\n",
      "group data loaded Data/exp_reduced_neuron_1hz\\vtrace_df_0.pkl\n",
      "group data loaded Data/exp_reduced_neuron_1hz\\vtrace_df_1.pkl\n",
      "group data loaded Data/exp_reduced_neuron_1hz\\vtrace_df_2.pkl\n",
      "group data loaded Data/exp_reduced_neuron_1hz\\vtrace_df_3.pkl\n",
      "group data loaded Data/exp_reduced_neuron_1hz\\vtrace_df_4.pkl\n",
      "group data loaded Data/exp_reduced_neuron_1hz\\vtrace_df_5.pkl\n",
      "group data loaded Data/exp_reduced_neuron_1hz\\vtrace_df_6.pkl\n",
      "group data loaded Data/exp_reduced_neuron_1hz\\vtrace_df_7.pkl\n",
      "group data loaded Data/exp_reduced_neuron_1hz\\vtrace_df_8.pkl\n",
      "group data loaded Data/exp_reduced_neuron_1hz\\vtrace_df_9.pkl\n",
      "generating w_clopath_df\n",
      "applying df function: _get_w_clopath\n",
      "clopath_params {'tetap': -58, 'tau_m': 20, 'upper_bound': None, 'A_p': 0.0004, 'lower_bound': 0.0, 'LTD_delay': 1, 'delay': 0, 'adapt_t': 40000, 'tau_x': 8, 'u_ref': 9, 'E_L': -70.6, 'tetam': -72, 'tau_p': 3, 'A_m0': 0.001}\n",
      "timer: 226.80099988\n",
      "saving updated group df\n",
      "file size 1220887876\n",
      "total size 1220887876\n",
      "splitting group df\n",
      "chunk  0 , size:  (32, 174)\n",
      "chunk  1 , size:  (32, 174)\n",
      "chunk  2 , size:  (32, 174)\n",
      "chunk  3 , size:  (32, 174)\n",
      "chunk  4 , size:  (32, 174)\n",
      "chunk  5 , size:  (31, 174)\n",
      "chunk  6 , size:  (31, 174)\n",
      "chunk  7 , size:  (31, 174)\n",
      "chunk  8 , size:  (31, 174)\n",
      "chunk  9 , size:  (31, 174)\n"
     ]
    }
   ],
   "source": [
    "# vtrace\n",
    "# exp.generate_group_variable_vtrace()\n",
    "exp._load_group_variable(variable='vtrace_df')\n",
    "# w_clopath\n",
    "clopath_param = param.ParamClopath().kronberg_2020_test_1hz_2()\n",
    "# clopath_param = param.ParamClopath().kronberg_2020_reduced()\n",
    "exp.generate_group_variable_w_clopath(rerun=True, input_times_key='data_input_times', clopath_param=clopath_param)"
   ]
  },
  {
   "cell_type": "code",
   "execution_count": 5,
   "metadata": {},
   "outputs": [],
   "source": [
    "w_df = functions._set_index(exp.w_clopath_df, ['field', 'tree_key'])\n",
    "v_df = functions._set_index(exp.vtrace_df, ['field', 'tree_key'])"
   ]
  },
  {
   "cell_type": "code",
   "execution_count": 6,
   "metadata": {},
   "outputs": [
    {
     "data": {
      "text/plain": [
       "[<matplotlib.lines.Line2D at 0xad88fa20>]"
      ]
     },
     "execution_count": 6,
     "metadata": {},
     "output_type": "execute_result"
    },
    {
     "data": {
      "image/png": "[encoded data removed]",
      "text/plain": [
       "<Figure size 432x288 with 1 Axes>"
      ]
     },
     "metadata": {
      "needs_background": "light"
     },
     "output_type": "display_data"
    },
    {
     "data": {
      "image/png": "[encoded data removed]",
      "text/plain": [
       "<Figure size 432x288 with 1 Axes>"
      ]
     },
     "metadata": {
      "needs_background": "light"
     },
     "output_type": "display_data"
    }
   ],
   "source": [
    "plt.figure()\n",
    "plt.plot(functions._2array(w_df.loc[-5].w_clopath).T,'b')\n",
    "plt.plot(functions._2array(w_df.loc[0].w_clopath).T,'k')\n",
    "plt.plot(functions._2array(w_df.loc[5].w_clopath).T,'r')\n",
    "\n",
    "plt.figure()\n",
    "plt.plot(np.mean(functions._2array(w_df.loc[-5].w_clopath), axis=0),'b')\n",
    "plt.plot(np.mean(functions._2array(w_df.loc[0].w_clopath), axis=0),'k')\n",
    "plt.plot(np.mean(functions._2array(w_df.loc[5].w_clopath),axis=0),'r')"
   ]
  },
  {
   "cell_type": "code",
   "execution_count": 7,
   "metadata": {},
   "outputs": [],
   "source": [
    "# plt.figure()\n",
    "# plt.plot(functions._2array(v_df.loc[-5].data_v).T, 'b')\n",
    "# plt.plot(functions._2array(v_df.loc[0].data_v).T, 'k')\n",
    "# plt.plot(functions._2array(v_df.loc[5].data_v).T, 'r')"
   ]
  },
  {
   "cell_type": "code",
   "execution_count": 8,
   "metadata": {},
   "outputs": [
    {
     "name": "stdout",
     "output_type": "stream",
     "text": [
      "files ['Data/exp_reduced_neuron_1hz\\\\w_clopath_df_0.pkl', 'Data/exp_reduced_neuron_1hz\\\\w_clopath_df_1.pkl', 'Data/exp_reduced_neuron_1hz\\\\w_clopath_df_2.pkl', 'Data/exp_reduced_neuron_1hz\\\\w_clopath_df_3.pkl', 'Data/exp_reduced_neuron_1hz\\\\w_clopath_df_4.pkl', 'Data/exp_reduced_neuron_1hz\\\\w_clopath_df_5.pkl', 'Data/exp_reduced_neuron_1hz\\\\w_clopath_df_6.pkl', 'Data/exp_reduced_neuron_1hz\\\\w_clopath_df_7.pkl', 'Data/exp_reduced_neuron_1hz\\\\w_clopath_df_8.pkl', 'Data/exp_reduced_neuron_1hz\\\\w_clopath_df_9.pkl']\n",
      "10 variable files found\n",
      "group data loaded Data/exp_reduced_neuron_1hz\\w_clopath_df_0.pkl\n",
      "group data loaded Data/exp_reduced_neuron_1hz\\w_clopath_df_1.pkl\n",
      "group data loaded Data/exp_reduced_neuron_1hz\\w_clopath_df_2.pkl\n",
      "group data loaded Data/exp_reduced_neuron_1hz\\w_clopath_df_3.pkl\n",
      "group data loaded Data/exp_reduced_neuron_1hz\\w_clopath_df_4.pkl\n",
      "group data loaded Data/exp_reduced_neuron_1hz\\w_clopath_df_5.pkl\n",
      "group data loaded Data/exp_reduced_neuron_1hz\\w_clopath_df_6.pkl\n",
      "group data loaded Data/exp_reduced_neuron_1hz\\w_clopath_df_7.pkl\n",
      "group data loaded Data/exp_reduced_neuron_1hz\\w_clopath_df_8.pkl\n",
      "group data loaded Data/exp_reduced_neuron_1hz\\w_clopath_df_9.pkl\n",
      "building figdf: _define_figdict\n",
      "plotting: _var2var_mean\n"
     ]
    },
    {
     "name": "stderr",
     "output_type": "stream",
     "text": [
      "F:\\Anaconda2\\lib\\site-packages\\pandas\\core\\indexing.py:1494: PerformanceWarning: indexing past lexsort depth may impact performance.\n",
      "  return self._getitem_tuple(key)\n"
     ]
    },
    {
     "name": "stdout",
     "output_type": "stream",
     "text": [
      "x [6.]\n",
      "y [0.98742772]\n",
      "e [0.00019478]\n",
      "x [6.]\n",
      "y [0.97662809]\n",
      "e [0.00026682]\n",
      "x [6.]\n",
      "y [0.96497021]\n",
      "e [0.00059727]\n",
      "setting ticks\n",
      "YTICKS [0.96  0.965 0.97  0.975 0.98  0.985 0.99 ]\n",
      "num (0.9632104519339753, 0.988784985248444)\n",
      "-1\n",
      "[1. 1.]\n",
      "ylim_current [0.9632104519339753, 0.988784985248444]\n",
      "setting ticks\n",
      "ylim [0.9632104519339753, 0.988784985248444]\n",
      "yticks new [] [0.96321045]\n",
      "yticks new 0.9632104519339753 [0.96321045 0.98878499] 0.2 1\n",
      "yticks_new [0.96321045]\n",
      "setting ticks\n",
      "xTICKS [5.6 5.7 5.8 5.9 6.  6.1 6.2 6.3 6.4]\n",
      "num (5.67, 6.33)\n",
      "0\n",
      "[6. 6.]\n",
      "xlim_current [5.67, 6.33]\n",
      "setting ticks\n",
      "xlim [5.8, 6.21]\n",
      "xticks new [] [5.8 5.9 6.  6.1 6.2] [5.8 5.9 6.  6.1 6.2]\n",
      "xticks new 5.8 [5.8  6.21] 0.1 1\n",
      "xticks_new [5.8 5.9 6.  6.1 6.2]\n",
      "xticks_new [5.8 5.9 6.  6.1 6.2]\n",
      "setting xticks minor\n",
      "scaling yticks\n",
      "scaling xticks\n",
      "[5.8 5.9 6.  6.1 6.2]\n",
      "[5.8 5.9 6.  6.1 6.2]\n",
      "setting tick decimals\n",
      "yticklabels ['1.0']\n",
      "setting tick decimals\n",
      "xticklabels ['5.8', '5.9', '6.0', '6.1', '6.2']\n",
      "setting axes properties\n",
      "setting ticklabels\n",
      "building figdf: _define_figdict\n",
      "plotting: _trace_mean\n",
      "[[0.5        0.5        0.5        ... 0.49362135 0.49362135 0.49362135]\n",
      " [0.5        0.5        0.5        ... 0.49279385 0.49279385 0.49279385]\n",
      " [0.5        0.5        0.5        ... 0.49273796 0.49273796 0.49273796]\n",
      " ...\n",
      " [0.5        0.5        0.5        ... 0.49332036 0.49332036 0.49332036]\n",
      " [0.5        0.5        0.5        ... 0.49404967 0.49404967 0.49404967]\n",
      " [0.5        0.5        0.5        ... 0.49544809 0.49544809 0.49544809]]\n",
      "data array shape: (90L, 483600L)\n",
      "[[0.5        0.5        0.5        ... 0.48663171 0.48663171 0.48663171]\n",
      " [0.5        0.5        0.5        ... 0.48687293 0.48687293 0.48687293]\n",
      " [0.5        0.5        0.5        ... 0.48773557 0.48773557 0.48773557]\n",
      " ...\n",
      " [0.5        0.5        0.5        ... 0.48839913 0.48839913 0.48839913]\n",
      " [0.5        0.5        0.5        ... 0.48899124 0.48899124 0.48899124]\n",
      " [0.5        0.5        0.5        ... 0.48975103 0.48975103 0.48975103]]\n",
      "data array shape: (90L, 483600L)\n",
      "[[0.5        0.5        0.5        ... 0.47807398 0.47807398 0.47807398]\n",
      " [0.5        0.5        0.5        ... 0.48052404 0.48052404 0.48052404]\n",
      " [0.5        0.5        0.5        ... 0.48522938 0.48522938 0.48522938]\n",
      " ...\n",
      " [0.5        0.5        0.5        ... 0.48273788 0.48273788 0.48273788]\n",
      " [0.5        0.5        0.5        ... 0.48334133 0.48334133 0.48334133]\n",
      " [0.5        0.5        0.5        ... 0.48377225 0.48377225 0.48377225]]\n",
      "data array shape: (90L, 483600L)\n",
      "setting ticks\n",
      "YTICKS [0.48   0.4825 0.485  0.4875 0.49   0.4925 0.495  0.4975 0.5    0.5025]\n",
      "num (0.4812673875859152, 0.5008920291625755)\n",
      "-1\n",
      "[0.5 0.5]\n",
      "ylim_current [0.4812673875859152, 0.5008920291625755]\n",
      "setting ticks\n",
      "ylim [0.4, 0.61]\n",
      "yticks new [] [0.4 0.5 0.6]\n",
      "yticks new 0.4 [0.4  0.61] 0.1 1\n",
      "yticks_new [0.4 0.5 0.6]\n",
      "setting ticks\n",
      "xTICKS [-2.  0.  2.  4.  6.  8. 10. 12. 14.]\n",
      "num (-0.6045, 12.6945)\n",
      "-1\n",
      "[-0.6 12.7]\n",
      "xlim_current [-0.6045, 12.6945]\n",
      "setting ticks\n",
      "xlim [0.0, 13.0]\n",
      "xticks new [] [ 0.  5. 10.] [ 0.  5. 10.]\n",
      "xticks new 0.0 [ 0. 13.] 5 1\n",
      "xticks_new [ 0.  5. 10.]\n",
      "xticks_new [ 0.  5. 10.]\n",
      "setting xticks minor\n",
      "scaling yticks\n",
      "scaling xticks\n",
      "[ 0.  5. 10.]\n",
      "[ 0.  5. 10.]\n",
      "setting tick decimals\n",
      "yticklabels ['0.4', '0.5', '0.6']\n",
      "setting tick decimals\n",
      "xticklabels ['0', '5', '10']\n",
      "setting axes properties\n",
      "setting ticklabels\n"
     ]
    },
    {
     "data": {
      "image/png": "[encoded data removed]",
      "text/plain": [
       "<Figure size 432x288 with 1 Axes>"
      ]
     },
     "metadata": {
      "needs_background": "light"
     },
     "output_type": "display_data"
    },
    {
     "data": {
      "image/png": "[encoded data removed]",
      "text/plain": [
       "<Figure size 432x288 with 1 Axes>"
      ]
     },
     "metadata": {
      "needs_background": "light"
     },
     "output_type": "display_data"
    },
    {
     "name": "stdout",
     "output_type": "stream",
     "text": [
      "building figdf: _define_figdict\n",
      "data array shape: (90L,)\n",
      "data array shape: (90L,)\n",
      "(5, 'apic') [0.98724271 0.98558771 0.98547592 0.98638377 0.98833096 0.99129603\n",
      " 0.9869732  0.9855688  0.98628777 0.98649782 0.98771572 0.99091344\n",
      " 0.98714848 0.98571729 0.98601798 0.98688075 0.98849336 0.99149754\n",
      " 0.98724731 0.98580284 0.98577399 0.98647163 0.98805845 0.99108095\n",
      " 0.98710916 0.98546745 0.98644498 0.98661344 0.98765587 0.99088053\n",
      " 0.98670306 0.98589604 0.98660736 0.98641787 0.98796445 0.99111396\n",
      " 0.98675571 0.98625627 0.98766874 0.98681771 0.98801578 0.99124542\n",
      " 0.9871734  0.98526483 0.98606548 0.98634815 0.987749   0.99089452\n",
      " 0.98669691 0.98647384 0.98771902 0.98685486 0.98782557 0.99091095\n",
      " 0.98680756 0.98538485 0.98582883 0.98622236 0.98816491 0.99121784\n",
      " 0.98699897 0.98533368 0.98559367 0.98654024 0.98840043 0.99119711\n",
      " 0.98665249 0.98590621 0.98659977 0.98651462 0.98787833 0.9908939\n",
      " 0.98689361 0.98527832 0.98560996 0.98650954 0.98824697 0.99159224\n",
      " 0.98711981 0.98530627 0.98597579 0.98623729 0.98800604 0.9910434\n",
      " 0.98737721 0.98572925 0.98572263 0.98664072 0.98809933 0.99089618]\n",
      "0.9874277234132556\n",
      "(5, 'apic') ()\n",
      "data array shape: (90L,)\n",
      "data array shape: (90L,)\n",
      "(0, 'apic') [0.97326342 0.97374587 0.97547114 0.9765429  0.97821221 0.97989852\n",
      " 0.97326801 0.97395942 0.97535848 0.97663022 0.97794173 0.97968526\n",
      " 0.97316993 0.97387448 0.97556172 0.97703614 0.97837301 0.98009824\n",
      " 0.97299609 0.97431012 0.97701008 0.97753155 0.97760187 0.97951929\n",
      " 0.97313096 0.97432253 0.97764093 0.97770023 0.97754252 0.97948668\n",
      " 0.97272803 0.97537784 0.97779749 0.97729094 0.97784858 0.97971806\n",
      " 0.97278027 0.97635215 0.98399855 0.97808746 0.9778996  0.97984846\n",
      " 0.97283173 0.9742201  0.97616981 0.9767224  0.97804745 0.97982102\n",
      " 0.97319465 0.97421484 0.97660643 0.9772509  0.97763489 0.97950052\n",
      " 0.97272193 0.97742937 0.98391573 0.97796839 0.97771098 0.97951682\n",
      " 0.97302159 0.97379951 0.97572079 0.97669836 0.97828126 0.97980041\n",
      " 0.97267788 0.97532083 0.97750815 0.97745242 0.97776329 0.97949988\n",
      " 0.97314149 0.97411408 0.97654503 0.97691663 0.97788994 0.97964809\n",
      " 0.97291707 0.9739896  0.9758784  0.97666787 0.97812847 0.98019222\n",
      " 0.97339687 0.97388628 0.97530021 0.97679826 0.97798249 0.97950205]\n",
      "0.9766280929433888\n",
      "(0, 'apic') ()\n",
      "data array shape: (90L,)\n",
      "data array shape: (90L,)\n",
      "(-5, 'apic') [0.95614795 0.96104808 0.97045876 0.96774272 0.96616122 0.96687801\n",
      " 0.95641269 0.95981412 0.96379774 0.96535827 0.96676612 0.96725351\n",
      " 0.95632011 0.95973925 0.96326042 0.96566762 0.96692511 0.96745125\n",
      " 0.95641728 0.95982346 0.96344059 0.96534151 0.96649787 0.96704225\n",
      " 0.9562815  0.96119104 0.97320895 0.96875827 0.96614436 0.96684573\n",
      " 0.95643236 0.9777595  0.98430957 0.96926086 0.96627376 0.96687554\n",
      " 0.95613163 0.96996024 0.97352499 0.96670815 0.96640569 0.96707485\n",
      " 0.9562849  0.97491841 0.98446636 0.97094746 0.96645641 0.96720409\n",
      " 0.95634453 0.961313   0.96743102 0.96670765 0.96619395 0.96685938\n",
      " 0.95598512 0.96104863 0.96481588 0.96593395 0.9666028  0.96717678\n",
      " 0.95617313 0.96036366 0.96411144 0.96547401 0.9668347  0.96715629\n",
      " 0.95654488 0.95975082 0.96336699 0.96543217 0.96653846 0.96686073\n",
      " 0.95617596 0.96894778 0.97228577 0.96698342 0.9663213  0.96685872\n",
      " 0.95629188 0.96090436 0.96783611 0.96619508 0.96644679 0.96700552\n",
      " 0.9560696  0.96070093 0.96438189 0.96547576 0.96668266 0.96754449]\n",
      "0.9649702057195972\n",
      "(-5, 'apic') ()\n",
      "setting ticks\n",
      "YTICKS [0.  0.2 0.4 0.6 0.8 1.  1.2]\n",
      "num (0.0, 1.0370036317844937)\n",
      "0\n",
      "[0. 1.]\n",
      "ylim_current [0.0, 1.0370036317844937]\n",
      "setting ticks\n",
      "ylim [0.8, 1.01]\n",
      "yticks new [] [0.8 1. ]\n",
      "yticks new 0.8 [0.8  1.01] 0.2 1\n",
      "yticks_new [0.8 1. ]\n",
      "setting xticks minor\n",
      "scaling yticks\n",
      "setting tick decimals\n",
      "yticklabels ['0.80', '1.00']\n",
      "setting tick decimals\n",
      "setting axes properties\n",
      "setting ticklabels\n"
     ]
    },
    {
     "data": {
      "image/png": "[encoded data removed]",
      "text/plain": [
       "<Figure size 432x288 with 1 Axes>"
      ]
     },
     "metadata": {
      "needs_background": "light"
     },
     "output_type": "display_data"
    }
   ],
   "source": [
    "import analyze_exp\n",
    "import figsetup\n",
    "reload(functions)\n",
    "reload(figsetup)\n",
    "reload(analyze_exp)\n",
    "ae = analyze_exp.analysis_exp_reduced_neuron_1hz(generate_figures=True)"
   ]
  },
  {
   "cell_type": "code",
   "execution_count": 9,
   "metadata": {},
   "outputs": [
    {
     "data": {
      "text/plain": [
       "(315, 168)"
      ]
     },
     "execution_count": 9,
     "metadata": {},
     "output_type": "execute_result"
    }
   ],
   "source": [
    "v_df.shape"
   ]
  },
  {
   "cell_type": "code",
   "execution_count": 10,
   "metadata": {},
   "outputs": [
    {
     "data": {
      "text/plain": [
       "17.5"
      ]
     },
     "execution_count": 10,
     "metadata": {},
     "output_type": "execute_result"
    }
   ],
   "source": [
    "105./6."
   ]
  },
  {
   "cell_type": "code",
   "execution_count": 11,
   "metadata": {},
   "outputs": [
    {
     "data": {
      "text/plain": [
       "(45L,)"
      ]
     },
     "execution_count": 11,
     "metadata": {},
     "output_type": "execute_result"
    }
   ],
   "source": [
    "functions._set_index(v_df, 'trial_id').index.unique().shape"
   ]
  },
  {
   "cell_type": "code",
   "execution_count": null,
   "metadata": {},
   "outputs": [],
   "source": []
  },
  {
   "cell_type": "code",
   "execution_count": null,
   "metadata": {},
   "outputs": [],
   "source": []
  }
 ],
 "metadata": {
  "kernelspec": {
   "display_name": "Python 2",
   "language": "python",
   "name": "python2"
  },
  "language_info": {
   "codemirror_mode": {
    "name": "ipython",
    "version": 2
   },
   "file_extension": ".py",
   "mimetype": "text/x-python",
   "name": "python",
   "nbconvert_exporter": "python",
   "pygments_lexer": "ipython2",
   "version": "2.7.16"
  }
 },
 "nbformat": 4,
 "nbformat_minor": 2
}
