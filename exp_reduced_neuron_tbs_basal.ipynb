{
 "cells": [
  {
   "cell_type": "code",
   "execution_count": 37,
   "metadata": {},
   "outputs": [
    {
     "data": {
      "text/plain": [
       "<module 'run_control' from 'run_control.py'>"
      ]
     },
     "execution_count": 37,
     "metadata": {},
     "output_type": "execute_result"
    }
   ],
   "source": [
    "import neurons\n",
    "import functions\n",
    "import matplotlib.pyplot as plt\n",
    "import stims\n",
    "import run_control\n",
    "import numpy as np\n",
    "import param\n",
    "import analyze_exp\n",
    "reload(param)\n",
    "reload(run_control.neuron)\n",
    "reload(functions)\n",
    "reload(neurons.neuron_reduce.reducing_methods)\n",
    "reload(neurons.neuron_reduce.subtree_reductor_func)\n",
    "reload(neurons)\n",
    "reload(functions)\n",
    "reload(stims)\n",
    "reload(analyze_exp)\n",
    "reload(run_control)"
   ]
  },
  {
   "cell_type": "code",
   "execution_count": 38,
   "metadata": {},
   "outputs": [],
   "source": [
    "exp = run_control.exp_reduced_neuron_tbs_basal()"
   ]
  },
  {
   "cell_type": "code",
   "execution_count": 39,
   "metadata": {},
   "outputs": [
    {
     "name": "stdout",
     "output_type": "stream",
     "text": [
      "loading cell geometry: CellMigliore2005Reduced\n",
      "loading cell range mechanisms\n",
      "inserting synapses\n",
      "creating morpho object\n",
      "WARNING The template 'model' is already defined... not loading.\n",
      "inserting synapses\n",
      "creating morpho object\n",
      "setting up recording vectors\n",
      "simulation finished\n",
      "converting input_times [ 10.  20.  30.  40. 210. 220. 230. 240. 410. 420. 430. 440. 610. 620.\n",
      " 630. 640. 810. 820. 830. 840.]\n",
      "trial_id:2020-04-12-20-25-33-376000-90739, duration:9.99199986458\n",
      "saving data\n",
      "setting up recording vectors\n",
      "simulation finished\n",
      "converting input_times [ 10.  20.  30.  40. 210. 220. 230. 240. 410. 420. 430. 440. 610. 620.\n",
      " 630. 640. 810. 820. 830. 840.]\n",
      "trial_id:2020-04-12-20-25-43-640000-25779, duration:9.73799991608\n",
      "saving data\n",
      "setting up recording vectors\n",
      "simulation finished\n",
      "converting input_times [ 10.  20.  30.  40. 210. 220. 230. 240. 410. 420. 430. 440. 610. 620.\n",
      " 630. 640. 810. 820. 830. 840.]\n",
      "trial_id:2020-04-12-20-25-53-613000-04051, duration:10.0020000935\n",
      "saving data\n"
     ]
    }
   ],
   "source": [
    "exp.run(trials=1, w_means=[.0062])"
   ]
  },
  {
   "cell_type": "code",
   "execution_count": 40,
   "metadata": {},
   "outputs": [
    {
     "name": "stdout",
     "output_type": "stream",
     "text": [
      "files []\n",
      "no group data found\n",
      "search_string data\n",
      "total data files: 3\n",
      "new data files: 3\n",
      "updating group data structure\n",
      "iter files: 3\n",
      "processing file 0\n",
      "new file found: 2020-04-12-20-25-33-376000-90739\n",
      "processing file 1\n",
      "new file found: 2020-04-12-20-25-43-640000-25779\n",
      "processing file 2\n",
      "new file found: 2020-04-12-20-25-53-613000-04051\n",
      "saving updated group df\n",
      "file size 83340\n",
      "total size 83340\n",
      "splitting group df\n",
      "chunk  0 , size:  (2, 169)\n",
      "chunk  1 , size:  (2, 169)\n",
      "chunk  2 , size:  (1, 169)\n",
      "chunk  3 , size:  (1, 169)\n",
      "chunk  4 , size:  (1, 169)\n",
      "chunk  5 , size:  (1, 169)\n",
      "chunk  6 , size:  (1, 169)\n",
      "chunk  7 , size:  (1, 169)\n",
      "chunk  8 , size:  (1, 169)\n",
      "chunk  9 , size:  (1, 169)\n",
      "saving updated group df\n",
      "file size 83340\n",
      "total size 83340\n",
      "splitting group df\n",
      "chunk  0 , size:  (2, 169)\n",
      "chunk  1 , size:  (2, 169)\n",
      "chunk  2 , size:  (1, 169)\n",
      "chunk  3 , size:  (1, 169)\n",
      "chunk  4 , size:  (1, 169)\n",
      "chunk  5 , size:  (1, 169)\n",
      "chunk  6 , size:  (1, 169)\n",
      "chunk  7 , size:  (1, 169)\n",
      "chunk  8 , size:  (1, 169)\n",
      "chunk  9 , size:  (1, 169)\n",
      "generating w_clopath_df\n",
      "files []\n",
      "no group data found\n",
      "applying df function: _get_w_clopath\n",
      "clopath_params {'tetap': -61, 'tau_m': 20, 'upper_bound': None, 'A_p': 0.0004, 'lower_bound': 0.0, 'LTD_delay': 1, 'delay': 0, 'adapt_t': 40000, 'tau_x': 8, 'u_ref': 9, 'E_L': -70.6, 'tetam': -70, 'tau_p': 3, 'A_m0': 0.001}\n",
      "weight bounds,  0.0 None\n",
      "timer: 4.49000000954\n",
      "saving updated group df\n",
      "file size 3501324\n",
      "total size 3501324\n",
      "splitting group df\n",
      "chunk  0 , size:  (2, 173)\n",
      "chunk  1 , size:  (2, 173)\n",
      "chunk  2 , size:  (1, 173)\n",
      "chunk  3 , size:  (1, 173)\n",
      "chunk  4 , size:  (1, 173)\n",
      "chunk  5 , size:  (1, 173)\n",
      "chunk  6 , size:  (1, 173)\n",
      "chunk  7 , size:  (1, 173)\n",
      "chunk  8 , size:  (1, 173)\n",
      "chunk  9 , size:  (1, 173)\n"
     ]
    }
   ],
   "source": [
    "exp.generate_group_variables()"
   ]
  },
  {
   "cell_type": "code",
   "execution_count": 41,
   "metadata": {},
   "outputs": [],
   "source": [
    "w_df = functions._set_index(exp.w_clopath_df, ['path_1_w_mean','field', 'tree_key'])\n",
    "v_df = functions._set_index(exp.vtrace_df, ['path_1_w_mean','field', 'tree_key'])"
   ]
  },
  {
   "cell_type": "code",
   "execution_count": 45,
   "metadata": {},
   "outputs": [
    {
     "name": "stderr",
     "output_type": "stream",
     "text": [
      "F:\\Anaconda2\\lib\\site-packages\\ipykernel_launcher.py:1: PerformanceWarning: indexing past lexsort depth may impact performance.\n",
      "  \"\"\"Entry point for launching an IPython kernel.\n"
     ]
    },
    {
     "data": {
      "text/plain": [
       "path_1_w_mean  field  tree_key\n",
       "0.0062         5      dend        2.086433\n",
       "                      dend        2.737504\n",
       "                      dend        3.397640\n",
       "Name: dw_clopath, dtype: float64"
      ]
     },
     "execution_count": 45,
     "metadata": {},
     "output_type": "execute_result"
    }
   ],
   "source": [
    "w_df.loc[(.0062, 5, 'dend')].dw_clopath"
   ]
  },
  {
   "cell_type": "code",
   "execution_count": 46,
   "metadata": {},
   "outputs": [
    {
     "name": "stderr",
     "output_type": "stream",
     "text": [
      "F:\\Anaconda2\\lib\\site-packages\\ipykernel_launcher.py:2: PerformanceWarning: indexing past lexsort depth may impact performance.\n",
      "  \n",
      "F:\\Anaconda2\\lib\\site-packages\\ipykernel_launcher.py:3: PerformanceWarning: indexing past lexsort depth may impact performance.\n",
      "  This is separate from the ipykernel package so we can avoid doing imports until\n"
     ]
    },
    {
     "data": {
      "text/plain": [
       "[<matplotlib.lines.Line2D at 0x203394a8>,\n",
       " <matplotlib.lines.Line2D at 0x20339940>,\n",
       " <matplotlib.lines.Line2D at 0x203397b8>]"
      ]
     },
     "execution_count": 46,
     "metadata": {},
     "output_type": "execute_result"
    },
    {
     "data": {
      "image/png": "[encoded data removed]",
      "text/plain": [
       "<Figure size 432x288 with 1 Axes>"
      ]
     },
     "metadata": {
      "needs_background": "light"
     },
     "output_type": "display_data"
    }
   ],
   "source": [
    "plt.figure()\n",
    "plt.plot(functions._2array(v_df.loc[(.0062, 5, 'dend')].data_v).T, 'r')\n",
    "plt.plot(functions._2array(v_df.loc[(.0062, 0, 'dend')].data_v).T, 'k')\n",
    "# plt.ylim([-72, -50])"
   ]
  },
  {
   "cell_type": "code",
   "execution_count": null,
   "metadata": {},
   "outputs": [],
   "source": []
  }
 ],
 "metadata": {
  "kernelspec": {
   "display_name": "Python 2",
   "language": "python",
   "name": "python2"
  },
  "language_info": {
   "codemirror_mode": {
    "name": "ipython",
    "version": 2
   },
   "file_extension": ".py",
   "mimetype": "text/x-python",
   "name": "python",
   "nbconvert_exporter": "python",
   "pygments_lexer": "ipython2",
   "version": "2.7.16"
  }
 },
 "nbformat": 4,
 "nbformat_minor": 2
}
